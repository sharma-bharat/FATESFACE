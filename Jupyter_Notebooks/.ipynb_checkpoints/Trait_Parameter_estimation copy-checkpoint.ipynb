{
 "cells": [
  {
   "cell_type": "code",
   "execution_count": 22,
   "metadata": {},
   "outputs": [],
   "source": [
    "import numpy as np\n",
    "import matplotlib.pyplot as plt\n",
    "from scipy.optimize import curve_fit\n",
    "import pandas as pd\n",
    "import seaborn as sns"
   ]
  },
  {
   "cell_type": "markdown",
   "metadata": {},
   "source": [
    "# FACE ORNL Sweetgum\n",
    "\n",
    "Height data: https://data.ess-dive.lbl.gov/view/doi:10.15485/1798175#ess-dive-8d90274b273a0b3-20210420T011652099 <br>\n",
    "Basal Area: https://data.ess-dive.lbl.gov/view/doi%3A10.15485%2F1463816#ess-dive-60f6d2e30a26980-20180716T151742599166 <br>\n",
    "\n",
    "Using ambient data for calculating the allometries."
   ]
  },
  {
   "cell_type": "markdown",
   "metadata": {},
   "source": [
    "## Height Allometry\n",
    "### Paths"
   ]
  },
  {
   "cell_type": "code",
   "execution_count": 28,
   "metadata": {},
   "outputs": [],
   "source": [
    "\n",
    "paths = {}\n",
    "paths ['height'] = f'/Users/ud4/repos/GitHub/FATESFACE/FACE_data/H2D/Height/'\n",
    "#https://data.ess-dive.lbl.gov/view/doi:10.15485/1798175#ess-dive-8d90274b273a0b3-20210420T011652099\n",
    "\n",
    "# BA: Basal Area\n",
    "paths ['BA'] = f'/Users/ud4/repos/GitHub/FATESFACE/FACE_data/H2D/BasalArea/data/'\n",
    "# https://data.ess-dive.lbl.gov/view/doi%3A10.15485%2F1463816#ess-dive-60f6d2e30a26980-20180716T151742599166\n"
   ]
  },
  {
   "cell_type": "code",
   "execution_count": 29,
   "metadata": {},
   "outputs": [
    {
     "data": {
      "text/plain": [
       "'/Users/ud4/repos/GitHub/FATESFACE/Jupyter_Notebooks'"
      ]
     },
     "execution_count": 29,
     "metadata": {},
     "output_type": "execute_result"
    }
   ],
   "source": [
    "pwd"
   ]
  },
  {
   "cell_type": "markdown",
   "metadata": {},
   "source": [
    "### Read Heights data"
   ]
  },
  {
   "cell_type": "code",
   "execution_count": 30,
   "metadata": {},
   "outputs": [
    {
     "name": "stdout",
     "output_type": "stream",
     "text": [
      "      Plot  TreeID  Year Height (m)\n",
      "0        1      14  1997       12.1\n",
      "1        1      15  1997       13.4\n",
      "2        1      16  1997       12.1\n",
      "3        1      17  1997       12.0\n",
      "4        1      18  1997       11.9\n",
      "...    ...     ...   ...        ...\n",
      "1620     5      89  2009       10.5\n",
      "1621     5      90  2009       18.0\n",
      "1622     5      91  2009       18.3\n",
      "1623     5      92  2009       14.5\n",
      "1624     5      93  2009       19.6\n",
      "\n",
      "[1625 rows x 4 columns]\n"
     ]
    }
   ],
   "source": [
    "\n",
    "\n",
    "# Read the CSV file from the path into a DataFrame\n",
    "df_heights = pd.read_csv(paths ['height']+ 'Height.csv')\n",
    "\n",
    "# Display the DataFrame\n",
    "print(df_heights)"
   ]
  },
  {
   "cell_type": "markdown",
   "metadata": {},
   "source": [
    "| Plot ID | Experiment |\n",
    "|:--------------:|:-------:|\n",
    "| 1 | Elevated |\n",
    "| 2 | Elevated |\n",
    "| 3 | Ambient |\n",
    "| 4 | Control |\n",
    "| 5 | Control |\n",
    "\n",
    "Let's find allometry for Plot id 3"
   ]
  },
  {
   "cell_type": "code",
   "execution_count": 31,
   "metadata": {},
   "outputs": [
    {
     "data": {
      "text/html": [
       "<div>\n",
       "<style scoped>\n",
       "    .dataframe tbody tr th:only-of-type {\n",
       "        vertical-align: middle;\n",
       "    }\n",
       "\n",
       "    .dataframe tbody tr th {\n",
       "        vertical-align: top;\n",
       "    }\n",
       "\n",
       "    .dataframe thead th {\n",
       "        text-align: right;\n",
       "    }\n",
       "</style>\n",
       "<table border=\"1\" class=\"dataframe\">\n",
       "  <thead>\n",
       "    <tr style=\"text-align: right;\">\n",
       "      <th></th>\n",
       "      <th>Plot</th>\n",
       "      <th>TreeID</th>\n",
       "      <th>Year</th>\n",
       "      <th>Height (m)</th>\n",
       "    </tr>\n",
       "  </thead>\n",
       "  <tbody>\n",
       "    <tr>\n",
       "      <th>50</th>\n",
       "      <td>3</td>\n",
       "      <td>16</td>\n",
       "      <td>1997</td>\n",
       "      <td>12.1</td>\n",
       "    </tr>\n",
       "    <tr>\n",
       "      <th>51</th>\n",
       "      <td>3</td>\n",
       "      <td>17</td>\n",
       "      <td>1997</td>\n",
       "      <td>12.1</td>\n",
       "    </tr>\n",
       "    <tr>\n",
       "      <th>52</th>\n",
       "      <td>3</td>\n",
       "      <td>18</td>\n",
       "      <td>1997</td>\n",
       "      <td>12.7</td>\n",
       "    </tr>\n",
       "    <tr>\n",
       "      <th>53</th>\n",
       "      <td>3</td>\n",
       "      <td>19</td>\n",
       "      <td>1997</td>\n",
       "      <td>12.6</td>\n",
       "    </tr>\n",
       "    <tr>\n",
       "      <th>54</th>\n",
       "      <td>3</td>\n",
       "      <td>20</td>\n",
       "      <td>1997</td>\n",
       "      <td>13.1</td>\n",
       "    </tr>\n",
       "    <tr>\n",
       "      <th>...</th>\n",
       "      <td>...</td>\n",
       "      <td>...</td>\n",
       "      <td>...</td>\n",
       "      <td>...</td>\n",
       "    </tr>\n",
       "    <tr>\n",
       "      <th>1570</th>\n",
       "      <td>3</td>\n",
       "      <td>65</td>\n",
       "      <td>2009</td>\n",
       "      <td>19.1</td>\n",
       "    </tr>\n",
       "    <tr>\n",
       "      <th>1571</th>\n",
       "      <td>3</td>\n",
       "      <td>67</td>\n",
       "      <td>2009</td>\n",
       "      <td>21.4</td>\n",
       "    </tr>\n",
       "    <tr>\n",
       "      <th>1572</th>\n",
       "      <td>3</td>\n",
       "      <td>82</td>\n",
       "      <td>2009</td>\n",
       "      <td>21.6</td>\n",
       "    </tr>\n",
       "    <tr>\n",
       "      <th>1573</th>\n",
       "      <td>3</td>\n",
       "      <td>83</td>\n",
       "      <td>2009</td>\n",
       "      <td>16.0</td>\n",
       "    </tr>\n",
       "    <tr>\n",
       "      <th>1574</th>\n",
       "      <td>3</td>\n",
       "      <td>84</td>\n",
       "      <td>2009</td>\n",
       "      <td>20.3</td>\n",
       "    </tr>\n",
       "  </tbody>\n",
       "</table>\n",
       "<p>325 rows × 4 columns</p>\n",
       "</div>"
      ],
      "text/plain": [
       "      Plot  TreeID  Year Height (m)\n",
       "50       3      16  1997       12.1\n",
       "51       3      17  1997       12.1\n",
       "52       3      18  1997       12.7\n",
       "53       3      19  1997       12.6\n",
       "54       3      20  1997       13.1\n",
       "...    ...     ...   ...        ...\n",
       "1570     3      65  2009       19.1\n",
       "1571     3      67  2009       21.4\n",
       "1572     3      82  2009       21.6\n",
       "1573     3      83  2009       16.0\n",
       "1574     3      84  2009       20.3\n",
       "\n",
       "[325 rows x 4 columns]"
      ]
     },
     "execution_count": 31,
     "metadata": {},
     "output_type": "execute_result"
    }
   ],
   "source": [
    "df_heights_plot3 = df_heights[df_heights['Plot'] == 3]\n",
    "df_heights_plot3"
   ]
  },
  {
   "cell_type": "code",
   "execution_count": 32,
   "metadata": {},
   "outputs": [
    {
     "name": "stderr",
     "output_type": "stream",
     "text": [
      "/var/folders/f1/01gxw8vn74q_x_rf_p5ztryjr405zq/T/ipykernel_9521/4150526309.py:2: SettingWithCopyWarning: \n",
      "A value is trying to be set on a copy of a slice from a DataFrame.\n",
      "Try using .loc[row_indexer,col_indexer] = value instead\n",
      "\n",
      "See the caveats in the documentation: https://pandas.pydata.org/pandas-docs/stable/user_guide/indexing.html#returning-a-view-versus-a-copy\n",
      "  df_heights_plot3['Height (m)'] = pd.to_numeric(df_heights_plot3['Height (m)'], errors='coerce')\n"
     ]
    }
   ],
   "source": [
    "# Convert 'Height (m)' column to float, handling exceptions by converting to NaN\n",
    "df_heights_plot3['Height (m)'] = pd.to_numeric(df_heights_plot3['Height (m)'], errors='coerce')"
   ]
  },
  {
   "cell_type": "code",
   "execution_count": 33,
   "metadata": {},
   "outputs": [
    {
     "data": {
      "image/png": "[encoded data removed]",
      "text/plain": [
       "<Figure size 720x432 with 1 Axes>"
      ]
     },
     "metadata": {
      "needs_background": "light"
     },
     "output_type": "display_data"
    }
   ],
   "source": [
    "import matplotlib.pyplot as plt\n",
    "\n",
    "# Assuming your data is in a DataFrame named 'df'\n",
    "# If not, replace 'df' with the actual DataFrame name\n",
    "\n",
    "# Plotting the data\n",
    "plt.figure(figsize=(10, 6))\n",
    "plt.plot(df_heights_plot3['Year'], df_heights_plot3['Height (m)'], marker='o', linestyle='-', color='b')\n",
    "plt.title('Tree Height Over Years')\n",
    "plt.xlabel('Year')\n",
    "plt.ylabel('Height (m)')\n",
    "plt.grid(True)\n",
    "plt.show()\n"
   ]
  },
  {
   "cell_type": "code",
   "execution_count": 34,
   "metadata": {},
   "outputs": [
    {
     "name": "stdout",
     "output_type": "stream",
     "text": [
      "    Year  Height (m)\n",
      "0   1997   12.588000\n",
      "1   1998   14.120000\n",
      "2   1999   14.296000\n",
      "3   2000   15.068000\n",
      "4   2001   16.072000\n",
      "5   2002   16.956000\n",
      "6   2003   17.548000\n",
      "7   2004   18.154167\n",
      "8   2005   18.620833\n",
      "9   2006   18.970833\n",
      "10  2007   19.120833\n",
      "11  2008   19.470833\n",
      "12  2009   19.579167\n"
     ]
    }
   ],
   "source": [
    "# Group by 'Year' and calculate the average height for each year\n",
    "average_height_per_year = df_heights_plot3.groupby('Year')['Height (m)'].mean().reset_index()\n",
    "\n",
    "# Display the result\n",
    "print(average_height_per_year)\n"
   ]
  },
  {
   "cell_type": "markdown",
   "metadata": {},
   "source": [
    "### Read Basal Areas"
   ]
  },
  {
   "cell_type": "code",
   "execution_count": 35,
   "metadata": {},
   "outputs": [],
   "source": [
    "df_BA = {}\n",
    "\n",
    "year_in = 1997\n",
    "\n",
    "# Read the .dat file from the path into a DataFrame\n",
    "file_path = paths ['BA']+ f'ba{year_in}.dat'\n",
    "# Read the .dat file into a DataFrame\n",
    "df_BA[year_in] = pd.read_table(file_path, skiprows=7, delim_whitespace=True)\n",
    "\n",
    "# Select the 2: cols and calculate the average\n",
    "average_ba = df_BA[year_in].iloc[:, 2:].mean(axis=1)\n",
    "# Drop the all the cols used for averaging\n",
    "df_BA[year_in] = df_BA[year_in].iloc[:, :2]\n",
    "# use average in dataframe\n",
    "df_BA[year_in]['AverageBA'] = round(average_ba,2)\n",
    "#Renaming cols\n",
    "df_BA[year_in]= df_BA[year_in].rename(columns={'RING':'Plot','TREE':'TreeID'})\n",
    "df_BA[year_in]['Year'] = year_in\n",
    "\n",
    "#df_BA[year_in]"
   ]
  },
  {
   "cell_type": "code",
   "execution_count": 36,
   "metadata": {},
   "outputs": [],
   "source": [
    "for year_in in range(1997, 2008):\n",
    "    # Read the .dat file from the path into a DataFrame\n",
    "    file_path = paths ['BA']+ f'ba{year_in}.dat'\n",
    "    # Read the .dat file into a DataFrame\n",
    "    df_BA[year_in] = pd.read_table(file_path, skiprows=7, delim_whitespace=True)\n",
    "\n",
    "    # Select the 2: cols and calculate the average\n",
    "    average_ba = df_BA[year_in].iloc[:, 2:].mean(axis=1)\n",
    "    # Drop the all the cols used for averaging\n",
    "    df_BA[year_in] = df_BA[year_in].iloc[:, :2]\n",
    "    df_BA[year_in]['Year'] = year_in\n",
    "    # use average in dataframe\n",
    "    df_BA[year_in]['AverageBA cm2'] = round(average_ba,2)\n",
    "    #Renaming cols\n",
    "    df_BA[year_in]= df_BA[year_in].rename(columns={'RING':'Plot','TREE':'TreeID'})\n"
   ]
  },
  {
   "cell_type": "code",
   "execution_count": 37,
   "metadata": {},
   "outputs": [],
   "source": [
    "# Initialize an empty DataFrame to store the result\n",
    "df_ba_all = pd.DataFrame()\n",
    "\n",
    "# Loop through the list of DataFrames and concatenate them\n",
    "for k in df_BA.keys():\n",
    "    df_ba_all = pd.concat([df_ba_all, df_BA[k]], ignore_index=True)"
   ]
  },
  {
   "cell_type": "code",
   "execution_count": 38,
   "metadata": {},
   "outputs": [],
   "source": [
    "df_ba_plot3 = df_ba_all[df_ba_all['Plot'] == 3]"
   ]
  },
  {
   "cell_type": "code",
   "execution_count": 39,
   "metadata": {},
   "outputs": [
    {
     "data": {
      "text/html": [
       "<div>\n",
       "<style scoped>\n",
       "    .dataframe tbody tr th:only-of-type {\n",
       "        vertical-align: middle;\n",
       "    }\n",
       "\n",
       "    .dataframe tbody tr th {\n",
       "        vertical-align: top;\n",
       "    }\n",
       "\n",
       "    .dataframe thead th {\n",
       "        text-align: right;\n",
       "    }\n",
       "</style>\n",
       "<table border=\"1\" class=\"dataframe\">\n",
       "  <thead>\n",
       "    <tr style=\"text-align: right;\">\n",
       "      <th></th>\n",
       "      <th>Plot</th>\n",
       "      <th>TreeID</th>\n",
       "      <th>Year</th>\n",
       "      <th>AverageBA cm2</th>\n",
       "    </tr>\n",
       "  </thead>\n",
       "  <tbody>\n",
       "    <tr>\n",
       "      <th>170</th>\n",
       "      <td>3</td>\n",
       "      <td>2</td>\n",
       "      <td>1997</td>\n",
       "      <td>136.86</td>\n",
       "    </tr>\n",
       "    <tr>\n",
       "      <th>171</th>\n",
       "      <td>3</td>\n",
       "      <td>3</td>\n",
       "      <td>1997</td>\n",
       "      <td>131.14</td>\n",
       "    </tr>\n",
       "    <tr>\n",
       "      <th>172</th>\n",
       "      <td>3</td>\n",
       "      <td>4</td>\n",
       "      <td>1997</td>\n",
       "      <td>122.14</td>\n",
       "    </tr>\n",
       "    <tr>\n",
       "      <th>173</th>\n",
       "      <td>3</td>\n",
       "      <td>5</td>\n",
       "      <td>1997</td>\n",
       "      <td>95.00</td>\n",
       "    </tr>\n",
       "    <tr>\n",
       "      <th>174</th>\n",
       "      <td>3</td>\n",
       "      <td>6</td>\n",
       "      <td>1997</td>\n",
       "      <td>94.29</td>\n",
       "    </tr>\n",
       "    <tr>\n",
       "      <th>...</th>\n",
       "      <td>...</td>\n",
       "      <td>...</td>\n",
       "      <td>...</td>\n",
       "      <td>...</td>\n",
       "    </tr>\n",
       "    <tr>\n",
       "      <th>4687</th>\n",
       "      <td>3</td>\n",
       "      <td>93</td>\n",
       "      <td>2007</td>\n",
       "      <td>127.00</td>\n",
       "    </tr>\n",
       "    <tr>\n",
       "      <th>4688</th>\n",
       "      <td>3</td>\n",
       "      <td>94</td>\n",
       "      <td>2007</td>\n",
       "      <td>88.00</td>\n",
       "    </tr>\n",
       "    <tr>\n",
       "      <th>4689</th>\n",
       "      <td>3</td>\n",
       "      <td>95</td>\n",
       "      <td>2007</td>\n",
       "      <td>135.71</td>\n",
       "    </tr>\n",
       "    <tr>\n",
       "      <th>4690</th>\n",
       "      <td>3</td>\n",
       "      <td>96</td>\n",
       "      <td>2007</td>\n",
       "      <td>237.00</td>\n",
       "    </tr>\n",
       "    <tr>\n",
       "      <th>4691</th>\n",
       "      <td>3</td>\n",
       "      <td>97</td>\n",
       "      <td>2007</td>\n",
       "      <td>95.86</td>\n",
       "    </tr>\n",
       "  </tbody>\n",
       "</table>\n",
       "<p>1012 rows × 4 columns</p>\n",
       "</div>"
      ],
      "text/plain": [
       "      Plot  TreeID  Year  AverageBA cm2\n",
       "170      3       2  1997         136.86\n",
       "171      3       3  1997         131.14\n",
       "172      3       4  1997         122.14\n",
       "173      3       5  1997          95.00\n",
       "174      3       6  1997          94.29\n",
       "...    ...     ...   ...            ...\n",
       "4687     3      93  2007         127.00\n",
       "4688     3      94  2007          88.00\n",
       "4689     3      95  2007         135.71\n",
       "4690     3      96  2007         237.00\n",
       "4691     3      97  2007          95.86\n",
       "\n",
       "[1012 rows x 4 columns]"
      ]
     },
     "execution_count": 39,
     "metadata": {},
     "output_type": "execute_result"
    }
   ],
   "source": [
    "df_ba_plot3"
   ]
  },
  {
   "cell_type": "code",
   "execution_count": 40,
   "metadata": {},
   "outputs": [
    {
     "data": {
      "image/png": "[encoded data removed]",
      "text/plain": [
       "<Figure size 720x432 with 1 Axes>"
      ]
     },
     "metadata": {
      "needs_background": "light"
     },
     "output_type": "display_data"
    }
   ],
   "source": [
    "import matplotlib.pyplot as plt\n",
    "\n",
    "# Assuming your data is in a DataFrame named 'df'\n",
    "# If not, replace 'df' with the actual DataFrame name\n",
    "\n",
    "# Plotting the data\n",
    "plt.figure(figsize=(10, 6))\n",
    "plt.plot(df_ba_plot3['Year'], df_ba_plot3['AverageBA cm2'], marker='o', linestyle='-', color='b')\n",
    "plt.title('Tree BA Over Years')\n",
    "plt.xlabel('Year')\n",
    "plt.ylabel('BA (cm2)')\n",
    "plt.grid(True)\n",
    "plt.show()\n"
   ]
  },
  {
   "cell_type": "code",
   "execution_count": 41,
   "metadata": {},
   "outputs": [
    {
     "data": {
      "text/html": [
       "<div>\n",
       "<style scoped>\n",
       "    .dataframe tbody tr th:only-of-type {\n",
       "        vertical-align: middle;\n",
       "    }\n",
       "\n",
       "    .dataframe tbody tr th {\n",
       "        vertical-align: top;\n",
       "    }\n",
       "\n",
       "    .dataframe thead th {\n",
       "        text-align: right;\n",
       "    }\n",
       "</style>\n",
       "<table border=\"1\" class=\"dataframe\">\n",
       "  <thead>\n",
       "    <tr style=\"text-align: right;\">\n",
       "      <th></th>\n",
       "      <th>Plot</th>\n",
       "      <th>TreeID</th>\n",
       "      <th>Year</th>\n",
       "      <th>Height (m)</th>\n",
       "    </tr>\n",
       "  </thead>\n",
       "  <tbody>\n",
       "    <tr>\n",
       "      <th>50</th>\n",
       "      <td>3</td>\n",
       "      <td>16</td>\n",
       "      <td>1997</td>\n",
       "      <td>12.1</td>\n",
       "    </tr>\n",
       "    <tr>\n",
       "      <th>51</th>\n",
       "      <td>3</td>\n",
       "      <td>17</td>\n",
       "      <td>1997</td>\n",
       "      <td>12.1</td>\n",
       "    </tr>\n",
       "    <tr>\n",
       "      <th>52</th>\n",
       "      <td>3</td>\n",
       "      <td>18</td>\n",
       "      <td>1997</td>\n",
       "      <td>12.7</td>\n",
       "    </tr>\n",
       "    <tr>\n",
       "      <th>53</th>\n",
       "      <td>3</td>\n",
       "      <td>19</td>\n",
       "      <td>1997</td>\n",
       "      <td>12.6</td>\n",
       "    </tr>\n",
       "    <tr>\n",
       "      <th>54</th>\n",
       "      <td>3</td>\n",
       "      <td>20</td>\n",
       "      <td>1997</td>\n",
       "      <td>13.1</td>\n",
       "    </tr>\n",
       "    <tr>\n",
       "      <th>...</th>\n",
       "      <td>...</td>\n",
       "      <td>...</td>\n",
       "      <td>...</td>\n",
       "      <td>...</td>\n",
       "    </tr>\n",
       "    <tr>\n",
       "      <th>1570</th>\n",
       "      <td>3</td>\n",
       "      <td>65</td>\n",
       "      <td>2009</td>\n",
       "      <td>19.1</td>\n",
       "    </tr>\n",
       "    <tr>\n",
       "      <th>1571</th>\n",
       "      <td>3</td>\n",
       "      <td>67</td>\n",
       "      <td>2009</td>\n",
       "      <td>21.4</td>\n",
       "    </tr>\n",
       "    <tr>\n",
       "      <th>1572</th>\n",
       "      <td>3</td>\n",
       "      <td>82</td>\n",
       "      <td>2009</td>\n",
       "      <td>21.6</td>\n",
       "    </tr>\n",
       "    <tr>\n",
       "      <th>1573</th>\n",
       "      <td>3</td>\n",
       "      <td>83</td>\n",
       "      <td>2009</td>\n",
       "      <td>16.0</td>\n",
       "    </tr>\n",
       "    <tr>\n",
       "      <th>1574</th>\n",
       "      <td>3</td>\n",
       "      <td>84</td>\n",
       "      <td>2009</td>\n",
       "      <td>20.3</td>\n",
       "    </tr>\n",
       "  </tbody>\n",
       "</table>\n",
       "<p>325 rows × 4 columns</p>\n",
       "</div>"
      ],
      "text/plain": [
       "      Plot  TreeID  Year  Height (m)\n",
       "50       3      16  1997        12.1\n",
       "51       3      17  1997        12.1\n",
       "52       3      18  1997        12.7\n",
       "53       3      19  1997        12.6\n",
       "54       3      20  1997        13.1\n",
       "...    ...     ...   ...         ...\n",
       "1570     3      65  2009        19.1\n",
       "1571     3      67  2009        21.4\n",
       "1572     3      82  2009        21.6\n",
       "1573     3      83  2009        16.0\n",
       "1574     3      84  2009        20.3\n",
       "\n",
       "[325 rows x 4 columns]"
      ]
     },
     "execution_count": 41,
     "metadata": {},
     "output_type": "execute_result"
    }
   ],
   "source": [
    "df_heights_plot3"
   ]
  },
  {
   "cell_type": "code",
   "execution_count": 42,
   "metadata": {},
   "outputs": [],
   "source": [
    "# Merge Height and BA\n",
    "\n",
    "# Merge DataFrames based on the 'ID' column\n",
    "merged_df = pd.merge(df_ba_plot3, df_heights_plot3, on=['Plot', 'TreeID','Year'], how='inner')"
   ]
  },
  {
   "cell_type": "code",
   "execution_count": 43,
   "metadata": {},
   "outputs": [
    {
     "data": {
      "text/html": [
       "<div>\n",
       "<style scoped>\n",
       "    .dataframe tbody tr th:only-of-type {\n",
       "        vertical-align: middle;\n",
       "    }\n",
       "\n",
       "    .dataframe tbody tr th {\n",
       "        vertical-align: top;\n",
       "    }\n",
       "\n",
       "    .dataframe thead th {\n",
       "        text-align: right;\n",
       "    }\n",
       "</style>\n",
       "<table border=\"1\" class=\"dataframe\">\n",
       "  <thead>\n",
       "    <tr style=\"text-align: right;\">\n",
       "      <th></th>\n",
       "      <th>Plot</th>\n",
       "      <th>TreeID</th>\n",
       "      <th>Year</th>\n",
       "      <th>AverageBA cm2</th>\n",
       "      <th>Height (m)</th>\n",
       "    </tr>\n",
       "  </thead>\n",
       "  <tbody>\n",
       "    <tr>\n",
       "      <th>0</th>\n",
       "      <td>3</td>\n",
       "      <td>16</td>\n",
       "      <td>1997</td>\n",
       "      <td>120.71</td>\n",
       "      <td>12.1</td>\n",
       "    </tr>\n",
       "    <tr>\n",
       "      <th>1</th>\n",
       "      <td>3</td>\n",
       "      <td>17</td>\n",
       "      <td>1997</td>\n",
       "      <td>103.00</td>\n",
       "      <td>12.1</td>\n",
       "    </tr>\n",
       "    <tr>\n",
       "      <th>2</th>\n",
       "      <td>3</td>\n",
       "      <td>18</td>\n",
       "      <td>1997</td>\n",
       "      <td>163.43</td>\n",
       "      <td>12.7</td>\n",
       "    </tr>\n",
       "    <tr>\n",
       "      <th>3</th>\n",
       "      <td>3</td>\n",
       "      <td>19</td>\n",
       "      <td>1997</td>\n",
       "      <td>130.14</td>\n",
       "      <td>12.6</td>\n",
       "    </tr>\n",
       "    <tr>\n",
       "      <th>4</th>\n",
       "      <td>3</td>\n",
       "      <td>20</td>\n",
       "      <td>1997</td>\n",
       "      <td>154.86</td>\n",
       "      <td>13.1</td>\n",
       "    </tr>\n",
       "    <tr>\n",
       "      <th>...</th>\n",
       "      <td>...</td>\n",
       "      <td>...</td>\n",
       "      <td>...</td>\n",
       "      <td>...</td>\n",
       "      <td>...</td>\n",
       "    </tr>\n",
       "    <tr>\n",
       "      <th>270</th>\n",
       "      <td>3</td>\n",
       "      <td>65</td>\n",
       "      <td>2007</td>\n",
       "      <td>148.14</td>\n",
       "      <td>18.3</td>\n",
       "    </tr>\n",
       "    <tr>\n",
       "      <th>271</th>\n",
       "      <td>3</td>\n",
       "      <td>67</td>\n",
       "      <td>2007</td>\n",
       "      <td>190.43</td>\n",
       "      <td>20.5</td>\n",
       "    </tr>\n",
       "    <tr>\n",
       "      <th>272</th>\n",
       "      <td>3</td>\n",
       "      <td>82</td>\n",
       "      <td>2007</td>\n",
       "      <td>282.29</td>\n",
       "      <td>21.1</td>\n",
       "    </tr>\n",
       "    <tr>\n",
       "      <th>273</th>\n",
       "      <td>3</td>\n",
       "      <td>83</td>\n",
       "      <td>2007</td>\n",
       "      <td>79.00</td>\n",
       "      <td>16.8</td>\n",
       "    </tr>\n",
       "    <tr>\n",
       "      <th>274</th>\n",
       "      <td>3</td>\n",
       "      <td>84</td>\n",
       "      <td>2007</td>\n",
       "      <td>189.71</td>\n",
       "      <td>20.0</td>\n",
       "    </tr>\n",
       "  </tbody>\n",
       "</table>\n",
       "<p>275 rows × 5 columns</p>\n",
       "</div>"
      ],
      "text/plain": [
       "     Plot  TreeID  Year  AverageBA cm2  Height (m)\n",
       "0       3      16  1997         120.71        12.1\n",
       "1       3      17  1997         103.00        12.1\n",
       "2       3      18  1997         163.43        12.7\n",
       "3       3      19  1997         130.14        12.6\n",
       "4       3      20  1997         154.86        13.1\n",
       "..    ...     ...   ...            ...         ...\n",
       "270     3      65  2007         148.14        18.3\n",
       "271     3      67  2007         190.43        20.5\n",
       "272     3      82  2007         282.29        21.1\n",
       "273     3      83  2007          79.00        16.8\n",
       "274     3      84  2007         189.71        20.0\n",
       "\n",
       "[275 rows x 5 columns]"
      ]
     },
     "execution_count": 43,
     "metadata": {},
     "output_type": "execute_result"
    }
   ],
   "source": [
    "merged_df"
   ]
  },
  {
   "cell_type": "code",
   "execution_count": 174,
   "metadata": {},
   "outputs": [
    {
     "data": {
      "image/png": "[encoded data removed]",
      "text/plain": [
       "<Figure size 720x432 with 1 Axes>"
      ]
     },
     "metadata": {
      "needs_background": "light"
     },
     "output_type": "display_data"
    }
   ],
   "source": [
    "plt.figure(figsize=(10, 6))\n",
    "ba = np.array(merged_df['AverageBA cm2'])\n",
    "height = np.array(merged_df['Height (m)'])\n",
    "year = np.array(merged_df['Year'])\n",
    "for y in set(year):\n",
    "    x = [height[i] for i in range(len(year)) if year[i] == y]\n",
    "    y_vals = [ba[i] for i in range(len(year)) if year[i] == y]\n",
    "    plt.scatter(y_vals, x, label=y)\n",
    "\n",
    "plt.ylabel('Height (m)')\n",
    "plt.xlabel('Average BA (cm^2)')\n",
    "plt.title('Height vs. Average BA (Color by Year)')\n",
    "plt.legend(title='Year')\n",
    "plt.grid(True)\n",
    "plt.show()"
   ]
  },
  {
   "cell_type": "code",
   "execution_count": 172,
   "metadata": {},
   "outputs": [
    {
     "data": {
      "image/png": "[encoded data removed]",
      "text/plain": [
       "<Figure size 720x432 with 1 Axes>"
      ]
     },
     "metadata": {
      "needs_background": "light"
     },
     "output_type": "display_data"
    }
   ],
   "source": [
    "import matplotlib.pyplot as plt\n",
    "\n",
    "# Assuming your data is in a DataFrame named 'df'\n",
    "# If not, replace 'df' with the actual DataFrame name\n",
    "\n",
    "# Plotting the data\n",
    "plt.figure(figsize=(10, 6))\n",
    "plt.scatter(merged_df['AverageBA cm2'], merged_df['Height (m)'], marker='o', linestyle='-', color='b')\n",
    "plt.title('H vs BA')\n",
    "plt.xlabel('BA (cm2)')\n",
    "plt.ylabel('H (m)')\n",
    "plt.grid(True)\n",
    "plt.show()\n"
   ]
  },
  {
   "cell_type": "code",
   "execution_count": 45,
   "metadata": {},
   "outputs": [
    {
     "name": "stdout",
     "output_type": "stream",
     "text": [
      "    Year  AverageBA cm2  Height (m)\n",
      "0   1997       122.7764   12.588000\n",
      "1   1998       133.2204   14.120000\n",
      "2   1999       143.5560   14.296000\n",
      "3   2000       151.9288   15.068000\n",
      "4   2001       161.4124   16.072000\n",
      "5   2002       170.3120   16.956000\n",
      "6   2003       180.3364   17.548000\n",
      "7   2004       184.9804   18.154167\n",
      "8   2005       192.0460   18.620833\n",
      "9   2006       198.0124   18.970833\n",
      "10  2007       204.0624   19.120833\n"
     ]
    }
   ],
   "source": [
    "# Group by 'Year' and calculate the average height for each year\n",
    "average_BA_H_per_year = merged_df.groupby('Year')[['AverageBA cm2','Height (m)']].mean().reset_index()\n",
    "\n",
    "# Display the result\n",
    "print(average_BA_H_per_year)"
   ]
  },
  {
   "cell_type": "code",
   "execution_count": 46,
   "metadata": {},
   "outputs": [],
   "source": [
    "import math\n",
    "\n",
    "def area_to_diameter(area):\n",
    "    diameter = math.sqrt((4 * area) / math.pi)\n",
    "    return diameter\n",
    "\n",
    "# Apply the function to the 'CircleArea' column\n",
    "average_BA_H_per_year['AverageD (cm)'] = average_BA_H_per_year['AverageBA cm2'].apply(area_to_diameter)\n",
    "merged_df['AverageD (cm)'] = merged_df['AverageBA cm2'].apply(area_to_diameter)"
   ]
  },
  {
   "cell_type": "code",
   "execution_count": 47,
   "metadata": {},
   "outputs": [
    {
     "data": {
      "text/html": [
       "<div>\n",
       "<style scoped>\n",
       "    .dataframe tbody tr th:only-of-type {\n",
       "        vertical-align: middle;\n",
       "    }\n",
       "\n",
       "    .dataframe tbody tr th {\n",
       "        vertical-align: top;\n",
       "    }\n",
       "\n",
       "    .dataframe thead th {\n",
       "        text-align: right;\n",
       "    }\n",
       "</style>\n",
       "<table border=\"1\" class=\"dataframe\">\n",
       "  <thead>\n",
       "    <tr style=\"text-align: right;\">\n",
       "      <th></th>\n",
       "      <th>Year</th>\n",
       "      <th>AverageBA cm2</th>\n",
       "      <th>Height (m)</th>\n",
       "      <th>AverageD (cm)</th>\n",
       "    </tr>\n",
       "  </thead>\n",
       "  <tbody>\n",
       "    <tr>\n",
       "      <th>0</th>\n",
       "      <td>1997</td>\n",
       "      <td>122.7764</td>\n",
       "      <td>12.588000</td>\n",
       "      <td>12.502950</td>\n",
       "    </tr>\n",
       "    <tr>\n",
       "      <th>1</th>\n",
       "      <td>1998</td>\n",
       "      <td>133.2204</td>\n",
       "      <td>14.120000</td>\n",
       "      <td>13.023881</td>\n",
       "    </tr>\n",
       "    <tr>\n",
       "      <th>2</th>\n",
       "      <td>1999</td>\n",
       "      <td>143.5560</td>\n",
       "      <td>14.296000</td>\n",
       "      <td>13.519659</td>\n",
       "    </tr>\n",
       "    <tr>\n",
       "      <th>3</th>\n",
       "      <td>2000</td>\n",
       "      <td>151.9288</td>\n",
       "      <td>15.068000</td>\n",
       "      <td>13.908334</td>\n",
       "    </tr>\n",
       "    <tr>\n",
       "      <th>4</th>\n",
       "      <td>2001</td>\n",
       "      <td>161.4124</td>\n",
       "      <td>16.072000</td>\n",
       "      <td>14.335852</td>\n",
       "    </tr>\n",
       "    <tr>\n",
       "      <th>5</th>\n",
       "      <td>2002</td>\n",
       "      <td>170.3120</td>\n",
       "      <td>16.956000</td>\n",
       "      <td>14.725759</td>\n",
       "    </tr>\n",
       "    <tr>\n",
       "      <th>6</th>\n",
       "      <td>2003</td>\n",
       "      <td>180.3364</td>\n",
       "      <td>17.548000</td>\n",
       "      <td>15.152935</td>\n",
       "    </tr>\n",
       "    <tr>\n",
       "      <th>7</th>\n",
       "      <td>2004</td>\n",
       "      <td>184.9804</td>\n",
       "      <td>18.154167</td>\n",
       "      <td>15.346803</td>\n",
       "    </tr>\n",
       "    <tr>\n",
       "      <th>8</th>\n",
       "      <td>2005</td>\n",
       "      <td>192.0460</td>\n",
       "      <td>18.620833</td>\n",
       "      <td>15.637153</td>\n",
       "    </tr>\n",
       "    <tr>\n",
       "      <th>9</th>\n",
       "      <td>2006</td>\n",
       "      <td>198.0124</td>\n",
       "      <td>18.970833</td>\n",
       "      <td>15.878199</td>\n",
       "    </tr>\n",
       "    <tr>\n",
       "      <th>10</th>\n",
       "      <td>2007</td>\n",
       "      <td>204.0624</td>\n",
       "      <td>19.120833</td>\n",
       "      <td>16.118943</td>\n",
       "    </tr>\n",
       "  </tbody>\n",
       "</table>\n",
       "</div>"
      ],
      "text/plain": [
       "    Year  AverageBA cm2  Height (m)  AverageD (cm)\n",
       "0   1997       122.7764   12.588000      12.502950\n",
       "1   1998       133.2204   14.120000      13.023881\n",
       "2   1999       143.5560   14.296000      13.519659\n",
       "3   2000       151.9288   15.068000      13.908334\n",
       "4   2001       161.4124   16.072000      14.335852\n",
       "5   2002       170.3120   16.956000      14.725759\n",
       "6   2003       180.3364   17.548000      15.152935\n",
       "7   2004       184.9804   18.154167      15.346803\n",
       "8   2005       192.0460   18.620833      15.637153\n",
       "9   2006       198.0124   18.970833      15.878199\n",
       "10  2007       204.0624   19.120833      16.118943"
      ]
     },
     "execution_count": 47,
     "metadata": {},
     "output_type": "execute_result"
    }
   ],
   "source": [
    "average_BA_H_per_year"
   ]
  },
  {
   "cell_type": "markdown",
   "metadata": {},
   "source": [
    "## Diameter to height allometries\n",
    "\n",
    "### 1. Martinez Cano\n",
    "h = (p1 * d**(p2))/(p3+d**(p2))\n",
    "\n",
    "<br>\n",
    "where, <br>\n",
    "h in m <br>\n",
    "d in cm <br>\n",
    "\n"
   ]
  },
  {
   "cell_type": "code",
   "execution_count": 48,
   "metadata": {},
   "outputs": [],
   "source": [
    "# Define the Martinez Cano function\n",
    "def MartinezCano(d, p1, p2, p3):\n",
    "    \"\"\"\n",
    "    https://bg.copernicus.org/articles/16/847/2019/\n",
    "    \"\"\"\n",
    "    h = (p1 * d**(p2))/(p3+d**(p2))\n",
    "    return h"
   ]
  },
  {
   "cell_type": "code",
   "execution_count": 49,
   "metadata": {},
   "outputs": [],
   "source": [
    "def MartinezCano(d, p1, p2, p3, dbh_maxh=80):\n",
    "    dbh_maxh = 80\n",
    "    h = (p1 * d**p2) / (p3 + d**p2)\n",
    "    return h\n"
   ]
  },
  {
   "cell_type": "code",
   "execution_count": 50,
   "metadata": {},
   "outputs": [
    {
     "name": "stdout",
     "output_type": "stream",
     "text": [
      "[11.463923326582265, 14.430283404440585, 16.82428323677534, 18.834186432792954, 20.56472939584703]\n",
      "[58.    0.73 21.8   1.  ]\n"
     ]
    },
    {
     "name": "stderr",
     "output_type": "stream",
     "text": [
      "/Users/ud4/opt/anaconda3/envs/pyces/lib/python3.9/site-packages/scipy/optimize/minpack.py:833: OptimizeWarning: Covariance of the parameters could not be estimated\n",
      "  warnings.warn('Covariance of the parameters could not be estimated',\n"
     ]
    }
   ],
   "source": [
    "test_x = [10,15,20,25,30]\n",
    "p1 = 58\n",
    "p2 = .73\n",
    "p3 = 21.8\n",
    "test_y = [MartinezCano(d, p1, p2, p3) for d in test_x ]\n",
    "print(test_y)\n",
    "\n",
    "parameters, covariance = curve_fit(MartinezCano, test_x, test_y)\n",
    "print (parameters)\n",
    "\n",
    "p1 = parameters[0]\n",
    "p2 = parameters[1]\n",
    "p3 = parameters[2]"
   ]
  },
  {
   "cell_type": "code",
   "execution_count": 51,
   "metadata": {},
   "outputs": [
    {
     "data": {
      "text/plain": [
       "<matplotlib.legend.Legend at 0x17f120f70>"
      ]
     },
     "execution_count": 51,
     "metadata": {},
     "output_type": "execute_result"
    },
    {
     "data": {
      "image/png": "[encoded data removed]",
      "text/plain": [
       "<Figure size 432x288 with 1 Axes>"
      ]
     },
     "metadata": {
      "needs_background": "light"
     },
     "output_type": "display_data"
    }
   ],
   "source": [
    "fit_y = MartinezCano(test_x, p1, p2, p3)\n",
    "plt.plot(test_x, test_y, 'o', label='data')\n",
    "plt.plot(test_x, fit_y, '-', label='fit')\n",
    "plt.legend()"
   ]
  },
  {
   "cell_type": "code",
   "execution_count": 52,
   "metadata": {},
   "outputs": [
    {
     "data": {
      "text/html": [
       "<div>\n",
       "<style scoped>\n",
       "    .dataframe tbody tr th:only-of-type {\n",
       "        vertical-align: middle;\n",
       "    }\n",
       "\n",
       "    .dataframe tbody tr th {\n",
       "        vertical-align: top;\n",
       "    }\n",
       "\n",
       "    .dataframe thead th {\n",
       "        text-align: right;\n",
       "    }\n",
       "</style>\n",
       "<table border=\"1\" class=\"dataframe\">\n",
       "  <thead>\n",
       "    <tr style=\"text-align: right;\">\n",
       "      <th></th>\n",
       "      <th>Plot</th>\n",
       "      <th>TreeID</th>\n",
       "      <th>Year</th>\n",
       "      <th>AverageBA cm2</th>\n",
       "      <th>Height (m)</th>\n",
       "      <th>AverageD (cm)</th>\n",
       "    </tr>\n",
       "  </thead>\n",
       "  <tbody>\n",
       "    <tr>\n",
       "      <th>0</th>\n",
       "      <td>3</td>\n",
       "      <td>16</td>\n",
       "      <td>1997</td>\n",
       "      <td>120.71</td>\n",
       "      <td>12.1</td>\n",
       "      <td>12.397288</td>\n",
       "    </tr>\n",
       "    <tr>\n",
       "      <th>1</th>\n",
       "      <td>3</td>\n",
       "      <td>17</td>\n",
       "      <td>1997</td>\n",
       "      <td>103.00</td>\n",
       "      <td>12.1</td>\n",
       "      <td>11.451798</td>\n",
       "    </tr>\n",
       "    <tr>\n",
       "      <th>2</th>\n",
       "      <td>3</td>\n",
       "      <td>18</td>\n",
       "      <td>1997</td>\n",
       "      <td>163.43</td>\n",
       "      <td>12.7</td>\n",
       "      <td>14.425170</td>\n",
       "    </tr>\n",
       "    <tr>\n",
       "      <th>3</th>\n",
       "      <td>3</td>\n",
       "      <td>19</td>\n",
       "      <td>1997</td>\n",
       "      <td>130.14</td>\n",
       "      <td>12.6</td>\n",
       "      <td>12.872428</td>\n",
       "    </tr>\n",
       "    <tr>\n",
       "      <th>4</th>\n",
       "      <td>3</td>\n",
       "      <td>20</td>\n",
       "      <td>1997</td>\n",
       "      <td>154.86</td>\n",
       "      <td>13.1</td>\n",
       "      <td>14.041862</td>\n",
       "    </tr>\n",
       "    <tr>\n",
       "      <th>...</th>\n",
       "      <td>...</td>\n",
       "      <td>...</td>\n",
       "      <td>...</td>\n",
       "      <td>...</td>\n",
       "      <td>...</td>\n",
       "      <td>...</td>\n",
       "    </tr>\n",
       "    <tr>\n",
       "      <th>270</th>\n",
       "      <td>3</td>\n",
       "      <td>65</td>\n",
       "      <td>2007</td>\n",
       "      <td>148.14</td>\n",
       "      <td>18.3</td>\n",
       "      <td>13.733816</td>\n",
       "    </tr>\n",
       "    <tr>\n",
       "      <th>271</th>\n",
       "      <td>3</td>\n",
       "      <td>67</td>\n",
       "      <td>2007</td>\n",
       "      <td>190.43</td>\n",
       "      <td>20.5</td>\n",
       "      <td>15.571224</td>\n",
       "    </tr>\n",
       "    <tr>\n",
       "      <th>272</th>\n",
       "      <td>3</td>\n",
       "      <td>82</td>\n",
       "      <td>2007</td>\n",
       "      <td>282.29</td>\n",
       "      <td>21.1</td>\n",
       "      <td>18.958449</td>\n",
       "    </tr>\n",
       "    <tr>\n",
       "      <th>273</th>\n",
       "      <td>3</td>\n",
       "      <td>83</td>\n",
       "      <td>2007</td>\n",
       "      <td>79.00</td>\n",
       "      <td>16.8</td>\n",
       "      <td>10.029253</td>\n",
       "    </tr>\n",
       "    <tr>\n",
       "      <th>274</th>\n",
       "      <td>3</td>\n",
       "      <td>84</td>\n",
       "      <td>2007</td>\n",
       "      <td>189.71</td>\n",
       "      <td>20.0</td>\n",
       "      <td>15.541759</td>\n",
       "    </tr>\n",
       "  </tbody>\n",
       "</table>\n",
       "<p>275 rows × 6 columns</p>\n",
       "</div>"
      ],
      "text/plain": [
       "     Plot  TreeID  Year  AverageBA cm2  Height (m)  AverageD (cm)\n",
       "0       3      16  1997         120.71        12.1      12.397288\n",
       "1       3      17  1997         103.00        12.1      11.451798\n",
       "2       3      18  1997         163.43        12.7      14.425170\n",
       "3       3      19  1997         130.14        12.6      12.872428\n",
       "4       3      20  1997         154.86        13.1      14.041862\n",
       "..    ...     ...   ...            ...         ...            ...\n",
       "270     3      65  2007         148.14        18.3      13.733816\n",
       "271     3      67  2007         190.43        20.5      15.571224\n",
       "272     3      82  2007         282.29        21.1      18.958449\n",
       "273     3      83  2007          79.00        16.8      10.029253\n",
       "274     3      84  2007         189.71        20.0      15.541759\n",
       "\n",
       "[275 rows x 6 columns]"
      ]
     },
     "execution_count": 52,
     "metadata": {},
     "output_type": "execute_result"
    }
   ],
   "source": [
    "# Using all the data for plot 3\n",
    "merged_df"
   ]
  },
  {
   "cell_type": "code",
   "execution_count": 53,
   "metadata": {},
   "outputs": [
    {
     "data": {
      "text/plain": [
       "<matplotlib.collections.PathCollection at 0x17f179820>"
      ]
     },
     "execution_count": 53,
     "metadata": {},
     "output_type": "execute_result"
    },
    {
     "data": {
      "image/png": "[encoded data removed]",
      "text/plain": [
       "<Figure size 432x288 with 1 Axes>"
      ]
     },
     "metadata": {
      "needs_background": "light"
     },
     "output_type": "display_data"
    }
   ],
   "source": [
    "\n",
    "xdata = merged_df['AverageD (cm)']\n",
    "ydata = merged_df['Height (m)']\n",
    "\n",
    "plt.scatter(xdata,ydata)"
   ]
  },
  {
   "cell_type": "code",
   "execution_count": 54,
   "metadata": {},
   "outputs": [
    {
     "name": "stderr",
     "output_type": "stream",
     "text": [
      "/Users/ud4/opt/anaconda3/envs/pyces/lib/python3.9/site-packages/scipy/optimize/minpack.py:833: OptimizeWarning: Covariance of the parameters could not be estimated\n",
      "  warnings.warn('Covariance of the parameters could not be estimated',\n"
     ]
    }
   ],
   "source": [
    "# Drop rows with NaN values\n",
    "merged_df = merged_df.dropna()\n",
    "xdata = merged_df['AverageD (cm)']\n",
    "ydata = merged_df['Height (m)']\n",
    "parameters, covariance = curve_fit(MartinezCano, xdata, ydata)"
   ]
  },
  {
   "cell_type": "code",
   "execution_count": 55,
   "metadata": {},
   "outputs": [
    {
     "data": {
      "text/plain": [
       "array([1.56009151e+07, 6.08827554e-01, 4.78814295e+06, 1.00000000e+00])"
      ]
     },
     "execution_count": 55,
     "metadata": {},
     "output_type": "execute_result"
    }
   ],
   "source": [
    "parameters"
   ]
  },
  {
   "cell_type": "code",
   "execution_count": 56,
   "metadata": {},
   "outputs": [],
   "source": [
    "p1 = parameters[0]\n",
    "p2 = parameters[1]\n",
    "p3 = parameters[2]"
   ]
  },
  {
   "cell_type": "code",
   "execution_count": 57,
   "metadata": {},
   "outputs": [
    {
     "data": {
      "text/plain": [
       "<matplotlib.legend.Legend at 0x17f08c730>"
      ]
     },
     "execution_count": 57,
     "metadata": {},
     "output_type": "execute_result"
    },
    {
     "data": {
      "image/png": "[encoded data removed]",
      "text/plain": [
       "<Figure size 432x288 with 1 Axes>"
      ]
     },
     "metadata": {
      "needs_background": "light"
     },
     "output_type": "display_data"
    }
   ],
   "source": [
    "fit_y = MartinezCano(xdata, p1, p2, p3)\n",
    "plt.plot(xdata, ydata, 'o', label='data')\n",
    "plt.plot(xdata, fit_y, '-', label='fit')\n",
    "plt.legend()"
   ]
  },
  {
   "cell_type": "code",
   "execution_count": 58,
   "metadata": {},
   "outputs": [
    {
     "name": "stderr",
     "output_type": "stream",
     "text": [
      "/Users/ud4/opt/anaconda3/envs/pyces/lib/python3.9/site-packages/scipy/optimize/minpack.py:833: OptimizeWarning: Covariance of the parameters could not be estimated\n",
      "  warnings.warn('Covariance of the parameters could not be estimated',\n"
     ]
    }
   ],
   "source": [
    "xdata = average_BA_H_per_year['AverageD (cm)']\n",
    "ydata = average_BA_H_per_year['Height (m)']\n",
    "parameters, covariance = curve_fit(MartinezCano, xdata, ydata)"
   ]
  },
  {
   "cell_type": "code",
   "execution_count": 59,
   "metadata": {},
   "outputs": [
    {
     "name": "stdout",
     "output_type": "stream",
     "text": [
      "16.50133333333333 21.694849379428252 138.44983971834642\n"
     ]
    }
   ],
   "source": [
    "p1 = parameters[0]\n",
    "p2 = parameters[1]\n",
    "p3 = parameters[2]\n",
    "print (p1,p2,p3)"
   ]
  },
  {
   "cell_type": "code",
   "execution_count": 60,
   "metadata": {},
   "outputs": [
    {
     "data": {
      "text/plain": [
       "<matplotlib.legend.Legend at 0x17efbc3a0>"
      ]
     },
     "execution_count": 60,
     "metadata": {},
     "output_type": "execute_result"
    },
    {
     "data": {
      "image/png": "[encoded data removed]",
      "text/plain": [
       "<Figure size 432x288 with 1 Axes>"
      ]
     },
     "metadata": {
      "needs_background": "light"
     },
     "output_type": "display_data"
    }
   ],
   "source": [
    "fit_y = MartinezCano(xdata, p1, p2, p3)\n",
    "plt.plot(xdata, ydata, 'o', label='data')\n",
    "plt.plot(xdata, fit_y, '-', label='fit')\n",
    "plt.legend()"
   ]
  },
  {
   "cell_type": "code",
   "execution_count": 61,
   "metadata": {},
   "outputs": [
    {
     "data": {
      "text/plain": [
       "0     12.502950\n",
       "1     13.023881\n",
       "2     13.519659\n",
       "3     13.908334\n",
       "4     14.335852\n",
       "5     14.725759\n",
       "6     15.152935\n",
       "7     15.346803\n",
       "8     15.637153\n",
       "9     15.878199\n",
       "10    16.118943\n",
       "Name: AverageD (cm), dtype: float64"
      ]
     },
     "execution_count": 61,
     "metadata": {},
     "output_type": "execute_result"
    }
   ],
   "source": [
    "xdata"
   ]
  },
  {
   "cell_type": "code",
   "execution_count": 62,
   "metadata": {},
   "outputs": [],
   "source": [
    "# Using all the data for plot 3 and year 2007\n",
    "merged_df_2007 = merged_df[merged_df['Year'] == 2007]"
   ]
  },
  {
   "cell_type": "code",
   "execution_count": 63,
   "metadata": {},
   "outputs": [
    {
     "data": {
      "text/plain": [
       "<matplotlib.collections.PathCollection at 0x17ebbc2e0>"
      ]
     },
     "execution_count": 63,
     "metadata": {},
     "output_type": "execute_result"
    },
    {
     "data": {
      "image/png": "[encoded data removed]",
      "text/plain": [
       "<Figure size 432x288 with 1 Axes>"
      ]
     },
     "metadata": {
      "needs_background": "light"
     },
     "output_type": "display_data"
    }
   ],
   "source": [
    "\n",
    "xdata = merged_df_2007['AverageD (cm)']\n",
    "ydata = merged_df_2007['Height (m)']\n",
    "\n",
    "plt.scatter(xdata,ydata)"
   ]
  },
  {
   "cell_type": "code",
   "execution_count": 64,
   "metadata": {},
   "outputs": [
    {
     "name": "stderr",
     "output_type": "stream",
     "text": [
      "/Users/ud4/opt/anaconda3/envs/pyces/lib/python3.9/site-packages/scipy/optimize/minpack.py:833: OptimizeWarning: Covariance of the parameters could not be estimated\n",
      "  warnings.warn('Covariance of the parameters could not be estimated',\n"
     ]
    },
    {
     "data": {
      "text/plain": [
       "array([31.35883053,  1.18035964, 16.52391932,  1.        ])"
      ]
     },
     "execution_count": 64,
     "metadata": {},
     "output_type": "execute_result"
    }
   ],
   "source": [
    "parameters, covariance = curve_fit(MartinezCano, xdata, ydata)\n",
    "parameters"
   ]
  },
  {
   "cell_type": "code",
   "execution_count": 65,
   "metadata": {},
   "outputs": [],
   "source": [
    "p1 = parameters[0]\n",
    "p2 = parameters[1]\n",
    "p3 = parameters[2]"
   ]
  },
  {
   "cell_type": "code",
   "execution_count": 66,
   "metadata": {},
   "outputs": [
    {
     "data": {
      "text/plain": [
       "<matplotlib.legend.Legend at 0x17f0ab9d0>"
      ]
     },
     "execution_count": 66,
     "metadata": {},
     "output_type": "execute_result"
    },
    {
     "data": {
      "image/png": "[encoded data removed]",
      "text/plain": [
       "<Figure size 432x288 with 1 Axes>"
      ]
     },
     "metadata": {
      "needs_background": "light"
     },
     "output_type": "display_data"
    }
   ],
   "source": [
    "fit_y = MartinezCano(xdata, p1, p2, p3)\n",
    "plt.plot(xdata, ydata, 'o', label='data')\n",
    "plt.plot(xdata, fit_y, '-', label='fit')\n",
    "plt.legend()"
   ]
  },
  {
   "cell_type": "markdown",
   "metadata": {},
   "source": [
    "### 2. Power function\n",
    "h = (p1 * d**(p2))\n",
    "\n",
    "<br>\n",
    "where, <br>\n",
    "h in m <br>\n",
    "d in cm <br>"
   ]
  },
  {
   "cell_type": "code",
   "execution_count": 67,
   "metadata": {},
   "outputs": [],
   "source": [
    "# Define the Martinez Cano function\n",
    "def PowerFunc(d, p1, p2):\n",
    "    h = p1 * d**(p2)\n",
    "    return h"
   ]
  },
  {
   "cell_type": "code",
   "execution_count": 68,
   "metadata": {},
   "outputs": [
    {
     "name": "stdout",
     "output_type": "stream",
     "text": [
      "[0.20302727 1.64087179]\n"
     ]
    },
    {
     "data": {
      "text/plain": [
       "<matplotlib.legend.Legend at 0x17f221dc0>"
      ]
     },
     "execution_count": 68,
     "metadata": {},
     "output_type": "execute_result"
    },
    {
     "data": {
      "image/png": "[encoded data removed]",
      "text/plain": [
       "<Figure size 432x288 with 1 Axes>"
      ]
     },
     "metadata": {
      "needs_background": "light"
     },
     "output_type": "display_data"
    }
   ],
   "source": [
    "xdata = average_BA_H_per_year['AverageD (cm)']\n",
    "ydata = average_BA_H_per_year['Height (m)']\n",
    "parameters, covariance = curve_fit(PowerFunc, xdata, ydata)\n",
    "print (parameters)\n",
    "p1 = parameters[0]\n",
    "p2 = parameters[1]\n",
    "\n",
    "fit_y = PowerFunc(xdata, p1, p2)\n",
    "plt.plot(xdata, ydata, 'o', label='data')\n",
    "plt.plot(xdata, fit_y, '-', label='fit')\n",
    "plt.legend()"
   ]
  },
  {
   "cell_type": "markdown",
   "metadata": {},
   "source": [
    "### 3. Obrien\n",
    "h = 10**(log10(d)*p1+p2)\n",
    "\n",
    "<br>\n",
    "where, <br>\n",
    "h in m <br>\n",
    "d in cm <br>"
   ]
  },
  {
   "cell_type": "code",
   "execution_count": 69,
   "metadata": {},
   "outputs": [],
   "source": [
    "\n",
    "import math\n",
    "\n",
    "def Obrien(d, p1, p2):\n",
    "    \"\"\"\n",
    "    https://bg.copernicus.org/articles/16/847/2019/\n",
    "    \"\"\"\n",
    "    h = 10 ** (np.log10(d)* p1 + p2)\n",
    "    return h\n",
    "\n"
   ]
  },
  {
   "cell_type": "code",
   "execution_count": 70,
   "metadata": {},
   "outputs": [
    {
     "name": "stdout",
     "output_type": "stream",
     "text": [
      "[ 1.64087178 -0.69244563]\n"
     ]
    },
    {
     "data": {
      "text/plain": [
       "<matplotlib.legend.Legend at 0x17f2ab3d0>"
      ]
     },
     "execution_count": 70,
     "metadata": {},
     "output_type": "execute_result"
    },
    {
     "data": {
      "image/png": "[encoded data removed]",
      "text/plain": [
       "<Figure size 432x288 with 1 Axes>"
      ]
     },
     "metadata": {
      "needs_background": "light"
     },
     "output_type": "display_data"
    }
   ],
   "source": [
    "xdata = average_BA_H_per_year['AverageD (cm)']\n",
    "ydata = average_BA_H_per_year['Height (m)']\n",
    "parameters, covariance = curve_fit(Obrien, np.array(xdata), np.array(ydata))\n",
    "print (parameters)\n",
    "p1 = parameters[0]\n",
    "p2 = parameters[1]\n",
    "\n",
    "fit_y = Obrien(xdata, p1, p2)\n",
    "plt.plot(xdata, ydata, 'o', label='data')\n",
    "plt.plot(xdata, fit_y, '-', label='fit')\n",
    "plt.legend()"
   ]
  },
  {
   "cell_type": "code",
   "execution_count": null,
   "metadata": {},
   "outputs": [],
   "source": []
  },
  {
   "cell_type": "markdown",
   "metadata": {},
   "source": [
    "## Conclusion ORNL Parameter d2h\n",
    "For our data for Sweetgum we can use: <br>\n",
    "\n",
    "| Obrien | p1 = 1.6409 | p2= -0.6924 | <br>\n",
    "| Power | p1 = 0.20302727 | p2 = 1.64087179| <br>\n",
    "\n",
    "Martinez Cano Fit fails"
   ]
  },
  {
   "cell_type": "markdown",
   "metadata": {},
   "source": [
    "## Aboveground Biomass Allometry"
   ]
  },
  {
   "cell_type": "markdown",
   "metadata": {},
   "source": [
    "## Norby 2021:\n",
    "\n",
    "(DM) = −2.24 + 0.355 * A1.3"
   ]
  },
  {
   "cell_type": "code",
   "execution_count": 71,
   "metadata": {},
   "outputs": [],
   "source": [
    "def Norby_AGB (d):\n",
    "    \"\"\"\n",
    "    d: cm\n",
    "\n",
    "    returns\n",
    "    -------\n",
    "    bagw in kg\n",
    "    \"\"\"\n",
    "    bagw = -2.24 + 0.355 * np.pi*d**2/4.0\n",
    "    return bagw\n"
   ]
  },
  {
   "cell_type": "code",
   "execution_count": 72,
   "metadata": {},
   "outputs": [
    {
     "data": {
      "image/png": "[encoded data removed]",
      "text/plain": [
       "<Figure size 432x288 with 1 Axes>"
      ]
     },
     "metadata": {
      "needs_background": "light"
     },
     "output_type": "display_data"
    }
   ],
   "source": [
    "xdata = average_BA_H_per_year['AverageD (cm)']\n",
    "Norby_agb = Norby_AGB(xdata)\n",
    "plt.plot(xdata, Norby_agb, '-', label='Norby AGB')\n",
    "plt.title('Norby AGB')\n",
    "plt.xlabel('D (cm)')\n",
    "plt.ylabel('AGB (kg)')\n",
    "plt.grid(True)"
   ]
  },
  {
   "cell_type": "markdown",
   "metadata": {},
   "source": [
    "### Two Parameter Power Function\n",
    "    ! =========================================================================\n",
    "    ! This function calculates tree above ground biomass according to 2\n",
    "    ! parameter power functions. (slope and intercepts of a log-log\n",
    "    ! diameter-agb fit:\n",
    "    !\n",
    "    ! These relationships are typical for temperate/boreal plants in North\n",
    "    ! America.  Parameters are available from Chojnacky 2014 and Jenkins 2003\n",
    "    !\n",
    "    ! Note that we are using an effective diameter here, as Chojnacky 2014\n",
    "    ! and Jenkins use diameter at the base of the plant for \"woodland\" species\n",
    "    ! The diameters should be converted prior to this routine if drc.\n",
    "    !\n",
    "    ! Input arguments:\n",
    "    ! diam: effective diameter (d or drc) in cm\n",
    "    ! FOR SPECIES THAT EXPECT DCM, THIS NEEDS TO BE PRE-CALCULATED!!!!\n",
    "    ! Output:\n",
    "    ! agb:   Total above ground biomass [kgC]"
   ]
  },
  {
   "cell_type": "code",
   "execution_count": 73,
   "metadata": {},
   "outputs": [],
   "source": [
    "def PP2_bagw(d, p1, p2, c2b=2):\n",
    "    bagw = (p1 * d**p2) / c2b\n",
    "    return bagw\n",
    "c2b = 2\n",
    "# so\n",
    "def PP2_bagw(d, p1, p2):\n",
    "    bagw = (p1 * d**p2) / 2\n",
    "    return bagw\n"
   ]
  },
  {
   "cell_type": "code",
   "execution_count": 74,
   "metadata": {},
   "outputs": [
    {
     "name": "stdout",
     "output_type": "stream",
     "text": [
      "[0.43146431 2.08115839]\n"
     ]
    },
    {
     "data": {
      "text/plain": [
       "<matplotlib.legend.Legend at 0x17f33b190>"
      ]
     },
     "execution_count": 74,
     "metadata": {},
     "output_type": "execute_result"
    },
    {
     "data": {
      "image/png": "[encoded data removed]",
      "text/plain": [
       "<Figure size 432x288 with 1 Axes>"
      ]
     },
     "metadata": {
      "needs_background": "light"
     },
     "output_type": "display_data"
    }
   ],
   "source": [
    "xdata = average_BA_H_per_year['AverageD (cm)']\n",
    "ydata = Norby_agb\n",
    "parameters, covariance = curve_fit(PP2_bagw, xdata, ydata)\n",
    "print (parameters)\n",
    "p1 = parameters[0]\n",
    "p2 = parameters[1]\n",
    "\n",
    "fit_y = PP2_bagw(xdata, p1, p2)\n",
    "plt.plot(xdata, Norby_agb, 'o', label='data')\n",
    "plt.plot(xdata, fit_y, '-', label='fit')\n",
    "plt.legend()"
   ]
  },
  {
   "cell_type": "markdown",
   "metadata": {},
   "source": [
    "### Chave's\n",
    "\n",
    "    ! Input arguments:\n",
    "    ! d: Diameter at breast height [cm]\n",
    "    ! rho:  wood specific gravity (dry wood mass per green volume)\n",
    "    ! height: total tree height [m]\n",
    "    ! a1: structural biomass allometry parameter 1 (intercept)\n",
    "    ! a2: structural biomass allometry parameter 2 (slope)\n",
    "    ! Output:\n",
    "    ! bagw:   Total above ground biomass [kgC]\n",
    "    !\n",
    "    ! Chave's Paper has p1 = 0.0673, p2 = 0.976"
   ]
  },
  {
   "cell_type": "code",
   "execution_count": 75,
   "metadata": {},
   "outputs": [],
   "source": [
    "def Chave_bagw(d, h, wood_density, p1, p2, c2b):\n",
    "    bagw = (p1 * (wood_density * d**2.0 * h)**p2) / c2b\n",
    "    return bagw\n",
    "\n",
    "# For ORNL\n",
    "# wood_density = .51\n",
    "# c2b=2\n",
    "\n",
    "\n"
   ]
  },
  {
   "cell_type": "code",
   "execution_count": 76,
   "metadata": {},
   "outputs": [
    {
     "name": "stdout",
     "output_type": "stream",
     "text": [
      "[1.58630521 0.57085158]\n"
     ]
    },
    {
     "data": {
      "text/plain": [
       "<matplotlib.legend.Legend at 0x17f41a190>"
      ]
     },
     "execution_count": 76,
     "metadata": {},
     "output_type": "execute_result"
    },
    {
     "data": {
      "image/png": "[encoded data removed]",
      "text/plain": [
       "<Figure size 432x288 with 1 Axes>"
      ]
     },
     "metadata": {
      "needs_background": "light"
     },
     "output_type": "display_data"
    }
   ],
   "source": [
    "# Combine the x values into a single array\n",
    "x1 = np.array(average_BA_H_per_year['AverageD (cm)'])\n",
    "x2 = np.array(average_BA_H_per_year['Height (m)'])\n",
    "x_combined = np.column_stack((x1, x2))\n",
    "\n",
    "ydata = Norby_agb\n",
    "\n",
    "# Re-working the function to make it to work for multiple x inputs\n",
    "def Chave_bagw(x, p1, p2):\n",
    "    bagw = (p1 * (0.51 * x[:, 0]**2.0 * x[:, 1])**p2) / 2\n",
    "    return bagw\n",
    "\n",
    "# Perform the curve fit\n",
    "parameters, covariance = curve_fit(Chave_bagw, x_combined, ydata)\n",
    "print (parameters)\n",
    "p1 = parameters[0]\n",
    "p2 = parameters[1]\n",
    "\n",
    "fit_y = Chave_bagw(x_combined, p1, p2)\n",
    "plt.plot(x_combined[:, 0], Norby_agb, 'o', label='Original Data 1')\n",
    "plt.plot(x_combined[:, 1], Norby_agb, 'o', label='Original Data 2')\n",
    "plt.plot(x_combined[:, 0], fit_y, '-', label='fit1')\n",
    "plt.plot(x_combined[:, 1], fit_y, '-', label='fit2')\n",
    "plt.legend()"
   ]
  },
  {
   "cell_type": "markdown",
   "metadata": {},
   "source": [
    "## Parameter AGB Sweetgum: \n",
    "Using 2 parameter power function: <br>\n",
    "p1 = 0.43146431 ; p2 = 2.08115839 <br>\n",
    "\n",
    "Using Chave function: <br>\n",
    "p1 = 1.58630521 ; p2 = 0.57085158 <br>"
   ]
  },
  {
   "cell_type": "markdown",
   "metadata": {},
   "source": [
    "# DUKE\n",
    "35° 58' 41.430\"N, 79° 05' 39.087\" W, 163 m asl ~ (36,-79)\n"
   ]
  },
  {
   "cell_type": "markdown",
   "metadata": {},
   "source": [
    "## Duke height allometry\n"
   ]
  },
  {
   "cell_type": "code",
   "execution_count": 77,
   "metadata": {},
   "outputs": [
    {
     "data": {
      "image/png": "[encoded data removed]",
      "text/plain": [
       "<Figure size 432x288 with 1 Axes>"
      ]
     },
     "metadata": {
      "needs_background": "light"
     },
     "output_type": "display_data"
    }
   ],
   "source": [
    "# ref: 62\n",
    "\n",
    "# Your data\n",
    "data = [\n",
    "    (16.3, 10.4),\n",
    "    (16.8, 12.5),\n",
    "    (16.8, 15.8),\n",
    "    (17.3, 13.4),\n",
    "    (17.3, 9.8),\n",
    "    (18.8, 11.9),\n",
    "    (19, 12.8),\n",
    "    (21.3, 12.5),\n",
    "    (23.1, 10.1),\n",
    "    (24.1, 16.5),\n",
    "    (24.4, 13.1),\n",
    "    (24.9, 20.4),\n",
    "    (24.9, 26.5),\n",
    "    (25.1, 24.4),\n",
    "    (25.1, 16.8),\n",
    "    (25.1, 20.4),\n",
    "    (25.4, 15.2),\n",
    "    (25.4, 13.4),\n",
    "    (26.4, 25.9),\n",
    "    (28.2, 17.1),\n",
    "    (31.2, 20.1),\n",
    "    (31.2, 28),\n",
    "    (34, 12.8),\n",
    "    (34.5, 26.2),\n",
    "    (36.8, 23.2),\n",
    "    (37.3, 29),\n",
    "    (40.1, 23.2),\n",
    "    (41.9, 26.5),\n",
    "    (44.5, 24.1)\n",
    "]\n",
    "\n",
    "# Separate the data into x and y values\n",
    "x_values, y_values = zip(*data)\n",
    "\n",
    "# Plot the data\n",
    "plt.scatter(x_values, y_values)\n",
    "plt.xlabel('DBH (cm)')\n",
    "plt.ylabel('Height (m)')\n",
    "plt.title('Scatter Plot of the TALLO Data for Pinus taeda ref 62)')\n",
    "plt.show()\n"
   ]
  },
  {
   "cell_type": "code",
   "execution_count": 116,
   "metadata": {},
   "outputs": [
    {
     "data": {
      "image/png": "[encoded data removed]",
      "text/plain": [
       "<Figure size 432x288 with 1 Axes>"
      ]
     },
     "metadata": {
      "needs_background": "light"
     },
     "output_type": "display_data"
    }
   ],
   "source": [
    "# ref 17\n",
    "\n",
    "# Your new data\n",
    "data2 = [\n",
    "    (3.5, 3.8),\n",
    "    (4, 3.2),\n",
    "    (5.5, 4.3),\n",
    "    (6.3, 4.8),\n",
    "    (8, 4.9),\n",
    "    (8.5, 10.6),\n",
    "    (8.8, 10.8),\n",
    "    (9, 5.4),\n",
    "    (9.4, 8.6),\n",
    "    (11.1, 11.8),\n",
    "    (11.3, 11.8),\n",
    "    (11.6, 9.2),\n",
    "    (13.9, 9.7),\n",
    "    (14.2, 10.8),\n",
    "    (14.3, 12.1),\n",
    "    (14.4, 12.8),\n",
    "    (14.8, 12),\n",
    "    (16.7, 13.1),\n",
    "    (17, 20.2),\n",
    "    (17.8, 12),\n",
    "    (18.7, 20.1),\n",
    "    (19.2, 13),\n",
    "    (20.2, 11.1),\n",
    "    (20.2, 11.3),\n",
    "    (21.1, 13.7),\n",
    "    (23, 13.8),\n",
    "    (23.4, 13.1),\n",
    "    (24.4, 14),\n",
    "    (32, 22.7),\n",
    "    (35.6, 26.5)\n",
    "]\n",
    "\n",
    "# Separate the data into x and y values\n",
    "x_values2, y_values2 = zip(*data2)\n",
    "\n",
    "# Plot the new data\n",
    "plt.scatter(x_values2, y_values2, color='red', label='Data 2')\n",
    "plt.xlabel('X Values')\n",
    "plt.ylabel('Y Values')\n",
    "plt.title('Scatter Plot of the New Data')\n",
    "plt.legend()\n",
    "plt.show()\n"
   ]
  },
  {
   "cell_type": "markdown",
   "metadata": {},
   "source": [
    "## Power function : d2h | Duke | ref62"
   ]
  },
  {
   "cell_type": "code",
   "execution_count": 117,
   "metadata": {},
   "outputs": [
    {
     "name": "stdout",
     "output_type": "stream",
     "text": [
      "[1.39568721 0.78584162]\n"
     ]
    },
    {
     "data": {
      "text/plain": [
       "<matplotlib.legend.Legend at 0x17fcf0ac0>"
      ]
     },
     "execution_count": 117,
     "metadata": {},
     "output_type": "execute_result"
    },
    {
     "data": {
      "image/png": "[encoded data removed]",
      "text/plain": [
       "<Figure size 432x288 with 1 Axes>"
      ]
     },
     "metadata": {
      "needs_background": "light"
     },
     "output_type": "display_data"
    }
   ],
   "source": [
    "xdata = x_values\n",
    "ydata = y_values\n",
    "parameters, covariance = curve_fit(PowerFunc, xdata, ydata)\n",
    "print (parameters)\n",
    "p1 = parameters[0]\n",
    "p2 = parameters[1]\n",
    "\n",
    "fit_y = PowerFunc(xdata, p1, p2)\n",
    "plt.plot(xdata, ydata, 'o', label='data')\n",
    "plt.plot(xdata, fit_y, '-', label='fit')\n",
    "plt.title(\"ref 62\")\n",
    "plt.legend()"
   ]
  },
  {
   "cell_type": "markdown",
   "metadata": {},
   "source": [
    "## Power function : d2h | Duke | ref17"
   ]
  },
  {
   "cell_type": "code",
   "execution_count": 118,
   "metadata": {},
   "outputs": [
    {
     "name": "stdout",
     "output_type": "stream",
     "text": [
      "[1.43476856 0.77807518]\n"
     ]
    },
    {
     "data": {
      "text/plain": [
       "<matplotlib.legend.Legend at 0x17fdc4700>"
      ]
     },
     "execution_count": 118,
     "metadata": {},
     "output_type": "execute_result"
    },
    {
     "data": {
      "image/png": "[encoded data removed]",
      "text/plain": [
       "<Figure size 432x288 with 1 Axes>"
      ]
     },
     "metadata": {
      "needs_background": "light"
     },
     "output_type": "display_data"
    }
   ],
   "source": [
    "xdata = x_values2\n",
    "ydata = y_values2\n",
    "parameters, covariance = curve_fit(PowerFunc, xdata, ydata)\n",
    "print (parameters)\n",
    "p1 = parameters[0]\n",
    "p2 = parameters[1]\n",
    "\n",
    "fit_y = PowerFunc(xdata, p1, p2)\n",
    "plt.plot(xdata, ydata, 'o', label='data')\n",
    "plt.plot(xdata, fit_y, '-', label='fit')\n",
    "plt.title(\"ref17\")\n",
    "plt.legend()"
   ]
  },
  {
   "cell_type": "code",
   "execution_count": 121,
   "metadata": {},
   "outputs": [
    {
     "data": {
      "text/plain": [
       "(3.8,\n",
       " 3.2,\n",
       " 4.3,\n",
       " 4.8,\n",
       " 4.9,\n",
       " 10.6,\n",
       " 10.8,\n",
       " 5.4,\n",
       " 8.6,\n",
       " 11.8,\n",
       " 11.8,\n",
       " 9.2,\n",
       " 9.7,\n",
       " 10.8,\n",
       " 12.1,\n",
       " 12.8,\n",
       " 12,\n",
       " 13.1,\n",
       " 20.2,\n",
       " 12,\n",
       " 20.1,\n",
       " 13,\n",
       " 11.1,\n",
       " 11.3,\n",
       " 13.7,\n",
       " 13.8,\n",
       " 13.1,\n",
       " 14,\n",
       " 22.7,\n",
       " 26.5)"
      ]
     },
     "execution_count": 121,
     "metadata": {},
     "output_type": "execute_result"
    }
   ],
   "source": []
  },
  {
   "cell_type": "markdown",
   "metadata": {},
   "source": [
    "### Obrien  : d2h | Duke | ref62"
   ]
  },
  {
   "cell_type": "code",
   "execution_count": 92,
   "metadata": {},
   "outputs": [
    {
     "name": "stdout",
     "output_type": "stream",
     "text": [
      "[0.78584147 0.14478831]\n"
     ]
    },
    {
     "data": {
      "text/plain": [
       "<matplotlib.legend.Legend at 0x17f7a2ac0>"
      ]
     },
     "execution_count": 92,
     "metadata": {},
     "output_type": "execute_result"
    },
    {
     "data": {
      "image/png": "[encoded data removed]",
      "text/plain": [
       "<Figure size 432x288 with 1 Axes>"
      ]
     },
     "metadata": {
      "needs_background": "light"
     },
     "output_type": "display_data"
    }
   ],
   "source": [
    "xdata = x_values\n",
    "ydata = y_values\n",
    "parameters, covariance = curve_fit(Obrien, np.array(xdata), np.array(ydata))\n",
    "print (parameters)\n",
    "p1 = parameters[0]\n",
    "p2 = parameters[1]\n",
    "\n",
    "fit_y = Obrien(xdata, p1, p2)\n",
    "plt.plot(xdata, ydata, 'o', label='data')\n",
    "plt.plot(xdata, fit_y, '-', label='fit')\n",
    "plt.title(\"ref62\")\n",
    "plt.legend()"
   ]
  },
  {
   "cell_type": "code",
   "execution_count": null,
   "metadata": {},
   "outputs": [],
   "source": []
  },
  {
   "cell_type": "code",
   "execution_count": 82,
   "metadata": {},
   "outputs": [
    {
     "name": "stdout",
     "output_type": "stream",
     "text": [
      "[0.7780761  0.15678067]\n"
     ]
    },
    {
     "data": {
      "text/plain": [
       "<matplotlib.legend.Legend at 0x17f450d30>"
      ]
     },
     "execution_count": 82,
     "metadata": {},
     "output_type": "execute_result"
    },
    {
     "data": {
      "image/png": "[encoded data removed]",
      "text/plain": [
       "<Figure size 432x288 with 1 Axes>"
      ]
     },
     "metadata": {
      "needs_background": "light"
     },
     "output_type": "display_data"
    }
   ],
   "source": [
    "xdata = x_values2\n",
    "ydata = y_values2\n",
    "parameters, covariance = curve_fit(Obrien, np.array(xdata), np.array(ydata))\n",
    "print (parameters)\n",
    "p1 = parameters[0]\n",
    "p2 = parameters[1]\n",
    "\n",
    "fit_y = Obrien(xdata, p1, p2)\n",
    "plt.plot(xdata, ydata, 'o', label='data')\n",
    "plt.plot(xdata, fit_y, '-', label='fit')\n",
    "plt.title(\"ref17\")\n",
    "plt.legend()"
   ]
  },
  {
   "cell_type": "markdown",
   "metadata": {},
   "source": [
    "## Conclusion DUKE d2h \n",
    "### ref 62\n",
    "Power function: [1.39568721 0.78584162] <br>\n",
    "Obrien : [0.78584147 0.14478831] <br>\n",
    "\n",
    "### ref 17\n",
    "Power function: [1.43476856 0.77807518] <br>\n",
    "Obrien : [0.7780761  0.15678067] <br>"
   ]
  },
  {
   "cell_type": "markdown",
   "metadata": {},
   "source": [
    "## Duke Allometries from Dohyoung Kim 2019 paper\n",
    "doi: 10.1111/gcb.14971 <br>"
   ]
  },
  {
   "cell_type": "markdown",
   "metadata": {},
   "source": []
  },
  {
   "cell_type": "markdown",
   "metadata": {},
   "source": [
    "[Figure 1 : H-DBH for harvested trees](/Users/ud4/repos/GitHub/FATESFACE/FACE_data/Kim_2019_Allometry/Kim_Fig1.png)\n",
    "\n",
    "`![1](/Users/ud4/repos/GitHub/FATESFACE/FACE_data/Kim_2019_Allometry/Kim_Fig1.png)`\n",
    "\n",
    "\n",
    "<img src=\"/Users/ud4/repos/GitHub/FATESFACE/FACE_data/Kim_2019_Allometry/Kim_Fig1.png\" alt=\"drawing\" style=\"width:800px;\"/>"
   ]
  },
  {
   "cell_type": "markdown",
   "metadata": {},
   "source": [
    "## Duke height allometry | KIM | d2h | P. taeda\n"
   ]
  },
  {
   "cell_type": "code",
   "execution_count": 142,
   "metadata": {},
   "outputs": [],
   "source": [
    "filepath= \"/Users/ud4/repos/GitHub/FATESFACE/FACE_data/Kim_2019_Allometry/\"\n",
    "\n",
    "fname= f\"{filepath}Data_for_figure_1.csv\"\n",
    "\n",
    "df = pd.read_csv(fname)\n",
    "\n",
    "# Selecting the subset of data\n",
    "subset_df_Ptaeda = df[(df['CO2'] == 'Ambient') & (df['N'] == 'Unfertilized') & (df['Species'] == 'P. taeda') & (df['Block'] == 'a') ]\n",
    "subset_df_Ptaeda = df[(df['CO2'] == 'Ambient') & (df['N'] == 'Unfertilized') & (df['Species'] == 'P. taeda') ]\n",
    "subset_df_Broadleaf = df[(df['CO2'] == 'Ambient') & (df['N'] == 'Unfertilized') & (df['Species'] == 'Broadleaved species') ]\n",
    "\n",
    "subset_df_Ptaeda = subset_df_Ptaeda.sort_values(by='DBH', ascending=True)\n",
    "subset_df_Broadleaf = subset_df_Broadleaf.sort_values(by='DBH', ascending=True)\n",
    "#subset_df_Ptaeda"
   ]
  },
  {
   "cell_type": "code",
   "execution_count": 143,
   "metadata": {},
   "outputs": [
    {
     "data": {
      "image/png": "[encoded data removed]",
      "text/plain": [
       "<Figure size 720x432 with 1 Axes>"
      ]
     },
     "metadata": {
      "needs_background": "light"
     },
     "output_type": "display_data"
    }
   ],
   "source": [
    "# Plotting DBH vs Height\n",
    "plt.figure(figsize=(10, 6))\n",
    "sns.scatterplot(data=subset_df_Ptaeda, x='DBH', y='Height', hue='Species', palette='viridis')\n",
    "plt.title('DBH vs Height by Species')\n",
    "plt.xlabel('DBH (cm)')\n",
    "plt.ylabel('Height (m)')\n",
    "plt.legend(title='Species')\n",
    "plt.grid(True)\n",
    "plt.show()"
   ]
  },
  {
   "cell_type": "code",
   "execution_count": 144,
   "metadata": {},
   "outputs": [
    {
     "data": {
      "image/png": "[encoded data removed]",
      "text/plain": [
       "<Figure size 720x432 with 1 Axes>"
      ]
     },
     "metadata": {
      "needs_background": "light"
     },
     "output_type": "display_data"
    }
   ],
   "source": [
    "# Plotting DBH vs Height\n",
    "plt.figure(figsize=(10, 6))\n",
    "sns.scatterplot(data=subset_df_Broadleaf, x='DBH', y='Height', hue='Species', palette='viridis')\n",
    "plt.title('DBH vs Height by Species')\n",
    "plt.xlabel('DBH (cm)')\n",
    "plt.ylabel('Height (m)')\n",
    "plt.legend(title='Species')\n",
    "plt.grid(True)\n",
    "plt.show()"
   ]
  },
  {
   "cell_type": "markdown",
   "metadata": {},
   "source": [
    "## Power function : d2h | Duke | Kim | loblolly"
   ]
  },
  {
   "cell_type": "code",
   "execution_count": 138,
   "metadata": {},
   "outputs": [
    {
     "name": "stdout",
     "output_type": "stream",
     "text": [
      "[7.07017762 0.34666995]\n"
     ]
    },
    {
     "data": {
      "text/plain": [
       "<matplotlib.legend.Legend at 0x17ff54be0>"
      ]
     },
     "execution_count": 138,
     "metadata": {},
     "output_type": "execute_result"
    },
    {
     "data": {
      "image/png": "[encoded data removed]",
      "text/plain": [
       "<Figure size 432x288 with 1 Axes>"
      ]
     },
     "metadata": {
      "needs_background": "light"
     },
     "output_type": "display_data"
    }
   ],
   "source": [
    "#del xdata, ydata, parameters, fit_y\n",
    "\n",
    "xdata = tuple(subset_df_Ptaeda['DBH'])\n",
    "ydata = tuple(subset_df_Ptaeda['Height'])\n",
    "parameters, covariance = curve_fit(PowerFunc, xdata, ydata)\n",
    "print (parameters)\n",
    "p1 = parameters[0]\n",
    "p2 = parameters[1]\n",
    "\n",
    "fit_y = PowerFunc(xdata, p1, p2)\n",
    "plt.plot(xdata, ydata, 'o', label='data')\n",
    "plt.plot(xdata, fit_y, '-', label='fit')\n",
    "plt.title(\"Kim Ptaeda Power\")\n",
    "plt.legend()"
   ]
  },
  {
   "cell_type": "code",
   "execution_count": 140,
   "metadata": {},
   "outputs": [
    {
     "name": "stdout",
     "output_type": "stream",
     "text": [
      "[0.34666997 0.8494303 ]\n"
     ]
    },
    {
     "data": {
      "text/plain": [
       "<matplotlib.legend.Legend at 0x17ebad880>"
      ]
     },
     "execution_count": 140,
     "metadata": {},
     "output_type": "execute_result"
    },
    {
     "data": {
      "image/png": "[encoded data removed]",
      "text/plain": [
       "<Figure size 432x288 with 1 Axes>"
      ]
     },
     "metadata": {
      "needs_background": "light"
     },
     "output_type": "display_data"
    }
   ],
   "source": [
    "xdata = np.array(subset_df_Ptaeda['DBH'])\n",
    "ydata = np.array(subset_df_Ptaeda['Height'])\n",
    "parameters, covariance = curve_fit(Obrien, np.array(xdata), np.array(ydata))\n",
    "print (parameters)\n",
    "p1 = parameters[0]\n",
    "p2 = parameters[1]\n",
    "\n",
    "fit_y = Obrien(xdata, p1, p2)\n",
    "plt.plot(xdata, ydata, 'o', label='data')\n",
    "plt.plot(xdata, fit_y, '-', label='fit')\n",
    "plt.title(\"Kim Ptaeda Obrien\")\n",
    "plt.legend()"
   ]
  },
  {
   "cell_type": "code",
   "execution_count": 145,
   "metadata": {},
   "outputs": [
    {
     "name": "stdout",
     "output_type": "stream",
     "text": [
      "[2.53377793 0.70312836]\n"
     ]
    },
    {
     "data": {
      "text/plain": [
       "<matplotlib.legend.Legend at 0x17ff98070>"
      ]
     },
     "execution_count": 145,
     "metadata": {},
     "output_type": "execute_result"
    },
    {
     "data": {
      "image/png": "[encoded data removed]",
      "text/plain": [
       "<Figure size 432x288 with 1 Axes>"
      ]
     },
     "metadata": {
      "needs_background": "light"
     },
     "output_type": "display_data"
    }
   ],
   "source": [
    "#del xdata, ydata, parameters, fit_y\n",
    "\n",
    "xdata = tuple(subset_df_Broadleaf['DBH'])\n",
    "ydata = tuple(subset_df_Broadleaf['Height'])\n",
    "parameters, covariance = curve_fit(PowerFunc, xdata, ydata)\n",
    "print (parameters)\n",
    "p1 = parameters[0]\n",
    "p2 = parameters[1]\n",
    "\n",
    "fit_y = PowerFunc(xdata, p1, p2)\n",
    "plt.plot(xdata, ydata, 'o', label='data')\n",
    "plt.plot(xdata, fit_y, '-', label='fit')\n",
    "plt.title(\"Kim Broadleaf Power\")\n",
    "plt.legend()"
   ]
  },
  {
   "cell_type": "code",
   "execution_count": 146,
   "metadata": {},
   "outputs": [
    {
     "name": "stdout",
     "output_type": "stream",
     "text": [
      "[0.70312836 0.40376855]\n"
     ]
    },
    {
     "data": {
      "text/plain": [
       "<matplotlib.legend.Legend at 0x1801919d0>"
      ]
     },
     "execution_count": 146,
     "metadata": {},
     "output_type": "execute_result"
    },
    {
     "data": {
      "image/png": "[encoded data removed]",
      "text/plain": [
       "<Figure size 432x288 with 1 Axes>"
      ]
     },
     "metadata": {
      "needs_background": "light"
     },
     "output_type": "display_data"
    }
   ],
   "source": [
    "xdata = np.array(subset_df_Broadleaf['DBH'])\n",
    "ydata = np.array(subset_df_Broadleaf['Height'])\n",
    "parameters, covariance = curve_fit(Obrien, np.array(xdata), np.array(ydata))\n",
    "print (parameters)\n",
    "p1 = parameters[0]\n",
    "p2 = parameters[1]\n",
    "\n",
    "fit_y = Obrien(xdata, p1, p2)\n",
    "plt.plot(xdata, ydata, 'o', label='data')\n",
    "plt.plot(xdata, fit_y, '-', label='fit')\n",
    "plt.title(\"Kim Broadleaf Obrien\")\n",
    "plt.legend()"
   ]
  },
  {
   "cell_type": "markdown",
   "metadata": {},
   "source": [
    "## Aboveground Biomass Allometry | Kim"
   ]
  },
  {
   "cell_type": "code",
   "execution_count": 165,
   "metadata": {},
   "outputs": [
    {
     "name": "stderr",
     "output_type": "stream",
     "text": [
      "/var/folders/f1/01gxw8vn74q_x_rf_p5ztryjr405zq/T/ipykernel_9521/2387702665.py:9: SettingWithCopyWarning: \n",
      "A value is trying to be set on a copy of a slice from a DataFrame.\n",
      "Try using .loc[row_indexer,col_indexer] = value instead\n",
      "\n",
      "See the caveats in the documentation: https://pandas.pydata.org/pandas-docs/stable/user_guide/indexing.html#returning-a-view-versus-a-copy\n",
      "  subset_df_Ptaeda ['agb (kg)'] = (subset_df_Ptaeda['Biomass_stem'] + subset_df_Ptaeda['Biomass_branch'])/1000\n",
      "/var/folders/f1/01gxw8vn74q_x_rf_p5ztryjr405zq/T/ipykernel_9521/2387702665.py:11: SettingWithCopyWarning: \n",
      "A value is trying to be set on a copy of a slice from a DataFrame.\n",
      "Try using .loc[row_indexer,col_indexer] = value instead\n",
      "\n",
      "See the caveats in the documentation: https://pandas.pydata.org/pandas-docs/stable/user_guide/indexing.html#returning-a-view-versus-a-copy\n",
      "  subset_df_Broadleaf ['agb (kg)'] = (subset_df_Broadleaf['Biomass_stem'] + subset_df_Broadleaf['Biomass_branch'])/1000\n"
     ]
    }
   ],
   "source": [
    "filepath= \"/Users/ud4/repos/GitHub/FATESFACE/FACE_data/Kim_2019_Allometry/\"\n",
    "\n",
    "fname= f\"{filepath}Data_for_figure_6.csv\"\n",
    "\n",
    "df = pd.read_csv(fname)\n",
    "\n",
    "# Selecting the subset of data\n",
    "subset_df_Ptaeda = df[(df['CO2'] == 'Ambient') & (df['N'] == 'Unfertilized') & (df['Species'] == 'P. taeda') & (df['Shade'] == 'intolerant')  ]\n",
    "subset_df_Ptaeda ['agb (kg)'] = (subset_df_Ptaeda['Biomass_stem'] + subset_df_Ptaeda['Biomass_branch'])/1000\n",
    "subset_df_Broadleaf = df[(df['CO2'] == 'Ambient') & (df['N'] == 'Unfertilized') & (df['Species'] == 'Broadleaved species') & (df['Shade'] == 'intolerant')  ]\n",
    "subset_df_Broadleaf ['agb (kg)'] = (subset_df_Broadleaf['Biomass_stem'] + subset_df_Broadleaf['Biomass_branch'])/1000\n",
    "\n",
    "subset_df_Ptaeda = subset_df_Ptaeda.sort_values(by='DBH', ascending=True)\n",
    "subset_df_Broadleaf = subset_df_Broadleaf.sort_values(by='DBH', ascending=True)\n",
    "#subset_df_Ptaeda"
   ]
  },
  {
   "cell_type": "code",
   "execution_count": 166,
   "metadata": {},
   "outputs": [
    {
     "data": {
      "text/html": [
       "<div>\n",
       "<style scoped>\n",
       "    .dataframe tbody tr th:only-of-type {\n",
       "        vertical-align: middle;\n",
       "    }\n",
       "\n",
       "    .dataframe tbody tr th {\n",
       "        vertical-align: top;\n",
       "    }\n",
       "\n",
       "    .dataframe thead th {\n",
       "        text-align: right;\n",
       "    }\n",
       "</style>\n",
       "<table border=\"1\" class=\"dataframe\">\n",
       "  <thead>\n",
       "    <tr style=\"text-align: right;\">\n",
       "      <th></th>\n",
       "      <th>Plot</th>\n",
       "      <th>Block</th>\n",
       "      <th>Species</th>\n",
       "      <th>CO2</th>\n",
       "      <th>N</th>\n",
       "      <th>Shade</th>\n",
       "      <th>DBH</th>\n",
       "      <th>H</th>\n",
       "      <th>CL</th>\n",
       "      <th>BAP</th>\n",
       "      <th>Biomass_stem</th>\n",
       "      <th>Biomass_branch</th>\n",
       "      <th>Biomass_foliage</th>\n",
       "      <th>agb (kg)</th>\n",
       "    </tr>\n",
       "  </thead>\n",
       "  <tbody>\n",
       "    <tr>\n",
       "      <th>54</th>\n",
       "      <td>8</td>\n",
       "      <td>d</td>\n",
       "      <td>P. taeda</td>\n",
       "      <td>Ambient</td>\n",
       "      <td>Unfertilized</td>\n",
       "      <td>intolerant</td>\n",
       "      <td>12.50</td>\n",
       "      <td>18.78</td>\n",
       "      <td>4.22</td>\n",
       "      <td>0.177365</td>\n",
       "      <td>55436.10912</td>\n",
       "      <td>1620.120000</td>\n",
       "      <td>1055.656334</td>\n",
       "      <td>57.056229</td>\n",
       "    </tr>\n",
       "    <tr>\n",
       "      <th>51</th>\n",
       "      <td>8</td>\n",
       "      <td>d</td>\n",
       "      <td>P. taeda</td>\n",
       "      <td>Ambient</td>\n",
       "      <td>Unfertilized</td>\n",
       "      <td>intolerant</td>\n",
       "      <td>12.60</td>\n",
       "      <td>18.10</td>\n",
       "      <td>6.65</td>\n",
       "      <td>0.146472</td>\n",
       "      <td>59262.03994</td>\n",
       "      <td>4427.890000</td>\n",
       "      <td>2294.808514</td>\n",
       "      <td>63.689930</td>\n",
       "    </tr>\n",
       "    <tr>\n",
       "      <th>3</th>\n",
       "      <td>1</td>\n",
       "      <td>a</td>\n",
       "      <td>P. taeda</td>\n",
       "      <td>Ambient</td>\n",
       "      <td>Unfertilized</td>\n",
       "      <td>intolerant</td>\n",
       "      <td>13.40</td>\n",
       "      <td>15.70</td>\n",
       "      <td>3.30</td>\n",
       "      <td>0.202257</td>\n",
       "      <td>46056.89952</td>\n",
       "      <td>2866.289158</td>\n",
       "      <td>1253.644210</td>\n",
       "      <td>48.923189</td>\n",
       "    </tr>\n",
       "    <tr>\n",
       "      <th>38</th>\n",
       "      <td>6</td>\n",
       "      <td>c</td>\n",
       "      <td>P. taeda</td>\n",
       "      <td>Ambient</td>\n",
       "      <td>Unfertilized</td>\n",
       "      <td>intolerant</td>\n",
       "      <td>15.85</td>\n",
       "      <td>18.91</td>\n",
       "      <td>4.69</td>\n",
       "      <td>0.172242</td>\n",
       "      <td>89943.18666</td>\n",
       "      <td>4162.540000</td>\n",
       "      <td>2773.123690</td>\n",
       "      <td>94.105727</td>\n",
       "    </tr>\n",
       "    <tr>\n",
       "      <th>53</th>\n",
       "      <td>8</td>\n",
       "      <td>d</td>\n",
       "      <td>P. taeda</td>\n",
       "      <td>Ambient</td>\n",
       "      <td>Unfertilized</td>\n",
       "      <td>intolerant</td>\n",
       "      <td>16.10</td>\n",
       "      <td>19.75</td>\n",
       "      <td>4.87</td>\n",
       "      <td>0.274981</td>\n",
       "      <td>70646.87880</td>\n",
       "      <td>3486.550000</td>\n",
       "      <td>1438.311077</td>\n",
       "      <td>74.133429</td>\n",
       "    </tr>\n",
       "    <tr>\n",
       "      <th>32</th>\n",
       "      <td>5</td>\n",
       "      <td>b</td>\n",
       "      <td>P. taeda</td>\n",
       "      <td>Ambient</td>\n",
       "      <td>Unfertilized</td>\n",
       "      <td>intolerant</td>\n",
       "      <td>18.30</td>\n",
       "      <td>19.24</td>\n",
       "      <td>5.10</td>\n",
       "      <td>0.144946</td>\n",
       "      <td>99792.27954</td>\n",
       "      <td>5882.130000</td>\n",
       "      <td>2320.093827</td>\n",
       "      <td>105.674410</td>\n",
       "    </tr>\n",
       "    <tr>\n",
       "      <th>40</th>\n",
       "      <td>6</td>\n",
       "      <td>c</td>\n",
       "      <td>P. taeda</td>\n",
       "      <td>Ambient</td>\n",
       "      <td>Unfertilized</td>\n",
       "      <td>intolerant</td>\n",
       "      <td>22.60</td>\n",
       "      <td>20.94</td>\n",
       "      <td>6.04</td>\n",
       "      <td>0.482255</td>\n",
       "      <td>165807.58710</td>\n",
       "      <td>13806.435390</td>\n",
       "      <td>4649.173924</td>\n",
       "      <td>179.614022</td>\n",
       "    </tr>\n",
       "    <tr>\n",
       "      <th>33</th>\n",
       "      <td>5</td>\n",
       "      <td>b</td>\n",
       "      <td>P. taeda</td>\n",
       "      <td>Ambient</td>\n",
       "      <td>Unfertilized</td>\n",
       "      <td>intolerant</td>\n",
       "      <td>23.90</td>\n",
       "      <td>21.51</td>\n",
       "      <td>5.80</td>\n",
       "      <td>0.560726</td>\n",
       "      <td>209515.32670</td>\n",
       "      <td>12381.350000</td>\n",
       "      <td>5216.359823</td>\n",
       "      <td>221.896677</td>\n",
       "    </tr>\n",
       "    <tr>\n",
       "      <th>30</th>\n",
       "      <td>5</td>\n",
       "      <td>b</td>\n",
       "      <td>P. taeda</td>\n",
       "      <td>Ambient</td>\n",
       "      <td>Unfertilized</td>\n",
       "      <td>intolerant</td>\n",
       "      <td>27.00</td>\n",
       "      <td>22.37</td>\n",
       "      <td>8.54</td>\n",
       "      <td>0.666329</td>\n",
       "      <td>276438.11170</td>\n",
       "      <td>30075.794030</td>\n",
       "      <td>8716.775444</td>\n",
       "      <td>306.513906</td>\n",
       "    </tr>\n",
       "    <tr>\n",
       "      <th>52</th>\n",
       "      <td>8</td>\n",
       "      <td>d</td>\n",
       "      <td>P. taeda</td>\n",
       "      <td>Ambient</td>\n",
       "      <td>Unfertilized</td>\n",
       "      <td>intolerant</td>\n",
       "      <td>27.20</td>\n",
       "      <td>22.21</td>\n",
       "      <td>8.65</td>\n",
       "      <td>0.940610</td>\n",
       "      <td>296573.61930</td>\n",
       "      <td>33172.280000</td>\n",
       "      <td>10642.934050</td>\n",
       "      <td>329.745899</td>\n",
       "    </tr>\n",
       "    <tr>\n",
       "      <th>39</th>\n",
       "      <td>6</td>\n",
       "      <td>c</td>\n",
       "      <td>P. taeda</td>\n",
       "      <td>Ambient</td>\n",
       "      <td>Unfertilized</td>\n",
       "      <td>intolerant</td>\n",
       "      <td>27.30</td>\n",
       "      <td>20.39</td>\n",
       "      <td>6.89</td>\n",
       "      <td>0.842439</td>\n",
       "      <td>288514.76240</td>\n",
       "      <td>33032.670000</td>\n",
       "      <td>12322.472650</td>\n",
       "      <td>321.547432</td>\n",
       "    </tr>\n",
       "    <tr>\n",
       "      <th>2</th>\n",
       "      <td>1</td>\n",
       "      <td>a</td>\n",
       "      <td>P. taeda</td>\n",
       "      <td>Ambient</td>\n",
       "      <td>Unfertilized</td>\n",
       "      <td>intolerant</td>\n",
       "      <td>28.90</td>\n",
       "      <td>23.23</td>\n",
       "      <td>8.88</td>\n",
       "      <td>0.814796</td>\n",
       "      <td>366680.75310</td>\n",
       "      <td>38352.120000</td>\n",
       "      <td>11136.368460</td>\n",
       "      <td>405.032873</td>\n",
       "    </tr>\n",
       "    <tr>\n",
       "      <th>31</th>\n",
       "      <td>5</td>\n",
       "      <td>b</td>\n",
       "      <td>P. taeda</td>\n",
       "      <td>Ambient</td>\n",
       "      <td>Unfertilized</td>\n",
       "      <td>intolerant</td>\n",
       "      <td>31.50</td>\n",
       "      <td>21.79</td>\n",
       "      <td>8.57</td>\n",
       "      <td>0.832307</td>\n",
       "      <td>385659.97470</td>\n",
       "      <td>54419.200000</td>\n",
       "      <td>26108.338880</td>\n",
       "      <td>440.079175</td>\n",
       "    </tr>\n",
       "  </tbody>\n",
       "</table>\n",
       "</div>"
      ],
      "text/plain": [
       "    Plot Block   Species      CO2             N       Shade    DBH      H  \\\n",
       "54     8     d  P. taeda  Ambient  Unfertilized  intolerant  12.50  18.78   \n",
       "51     8     d  P. taeda  Ambient  Unfertilized  intolerant  12.60  18.10   \n",
       "3      1     a  P. taeda  Ambient  Unfertilized  intolerant  13.40  15.70   \n",
       "38     6     c  P. taeda  Ambient  Unfertilized  intolerant  15.85  18.91   \n",
       "53     8     d  P. taeda  Ambient  Unfertilized  intolerant  16.10  19.75   \n",
       "32     5     b  P. taeda  Ambient  Unfertilized  intolerant  18.30  19.24   \n",
       "40     6     c  P. taeda  Ambient  Unfertilized  intolerant  22.60  20.94   \n",
       "33     5     b  P. taeda  Ambient  Unfertilized  intolerant  23.90  21.51   \n",
       "30     5     b  P. taeda  Ambient  Unfertilized  intolerant  27.00  22.37   \n",
       "52     8     d  P. taeda  Ambient  Unfertilized  intolerant  27.20  22.21   \n",
       "39     6     c  P. taeda  Ambient  Unfertilized  intolerant  27.30  20.39   \n",
       "2      1     a  P. taeda  Ambient  Unfertilized  intolerant  28.90  23.23   \n",
       "31     5     b  P. taeda  Ambient  Unfertilized  intolerant  31.50  21.79   \n",
       "\n",
       "      CL       BAP  Biomass_stem  Biomass_branch  Biomass_foliage    agb (kg)  \n",
       "54  4.22  0.177365   55436.10912     1620.120000      1055.656334   57.056229  \n",
       "51  6.65  0.146472   59262.03994     4427.890000      2294.808514   63.689930  \n",
       "3   3.30  0.202257   46056.89952     2866.289158      1253.644210   48.923189  \n",
       "38  4.69  0.172242   89943.18666     4162.540000      2773.123690   94.105727  \n",
       "53  4.87  0.274981   70646.87880     3486.550000      1438.311077   74.133429  \n",
       "32  5.10  0.144946   99792.27954     5882.130000      2320.093827  105.674410  \n",
       "40  6.04  0.482255  165807.58710    13806.435390      4649.173924  179.614022  \n",
       "33  5.80  0.560726  209515.32670    12381.350000      5216.359823  221.896677  \n",
       "30  8.54  0.666329  276438.11170    30075.794030      8716.775444  306.513906  \n",
       "52  8.65  0.940610  296573.61930    33172.280000     10642.934050  329.745899  \n",
       "39  6.89  0.842439  288514.76240    33032.670000     12322.472650  321.547432  \n",
       "2   8.88  0.814796  366680.75310    38352.120000     11136.368460  405.032873  \n",
       "31  8.57  0.832307  385659.97470    54419.200000     26108.338880  440.079175  "
      ]
     },
     "execution_count": 166,
     "metadata": {},
     "output_type": "execute_result"
    }
   ],
   "source": [
    "subset_df_Ptaeda"
   ]
  },
  {
   "cell_type": "code",
   "execution_count": 167,
   "metadata": {},
   "outputs": [
    {
     "data": {
      "image/png": "[encoded data removed]",
      "text/plain": [
       "<Figure size 432x288 with 1 Axes>"
      ]
     },
     "metadata": {
      "needs_background": "light"
     },
     "output_type": "display_data"
    }
   ],
   "source": [
    "\n",
    "xdata = subset_df_Ptaeda['DBH']\n",
    "ydata = subset_df_Ptaeda['agb (kg)']\n",
    "\n",
    "plt.plot(xdata, ydata, 'ko', label='AGB' )\n",
    "plt.title('Kim Ptaeda AGB')\n",
    "plt.xlabel('D (cm)')\n",
    "plt.ylabel('AGB (kg)')\n",
    "plt.grid(True)"
   ]
  },
  {
   "cell_type": "code",
   "execution_count": 169,
   "metadata": {},
   "outputs": [
    {
     "name": "stdout",
     "output_type": "stream",
     "text": [
      "[0.15588125 2.51685189]\n"
     ]
    },
    {
     "data": {
      "text/plain": [
       "<matplotlib.legend.Legend at 0x180581820>"
      ]
     },
     "execution_count": 169,
     "metadata": {},
     "output_type": "execute_result"
    },
    {
     "data": {
      "image/png": "[encoded data removed]",
      "text/plain": [
       "<Figure size 432x288 with 1 Axes>"
      ]
     },
     "metadata": {
      "needs_background": "light"
     },
     "output_type": "display_data"
    }
   ],
   "source": [
    "\n",
    "xdata = subset_df_Ptaeda['DBH']\n",
    "ydata = subset_df_Ptaeda['agb (kg)']\n",
    "parameters, covariance = curve_fit(PP2_bagw, xdata, ydata)\n",
    "print (parameters)\n",
    "p1 = parameters[0]\n",
    "p2 = parameters[1]\n",
    "\n",
    "fit_y = PP2_bagw(xdata, p1, p2)\n",
    "plt.plot(xdata, ydata, 'o', label='data')\n",
    "plt.plot(xdata, fit_y, '-', label='fit')\n",
    "plt.title (\"d2agb Kim Ptaeda PP2_bagw\")\n",
    "plt.legend()"
   ]
  },
  {
   "cell_type": "code",
   "execution_count": 170,
   "metadata": {},
   "outputs": [
    {
     "name": "stdout",
     "output_type": "stream",
     "text": [
      "[0.0225935  1.13669949]\n"
     ]
    },
    {
     "data": {
      "text/plain": [
       "<matplotlib.legend.Legend at 0x180734e20>"
      ]
     },
     "execution_count": 170,
     "metadata": {},
     "output_type": "execute_result"
    },
    {
     "data": {
      "image/png": "[encoded data removed]",
      "text/plain": [
       "<Figure size 432x288 with 1 Axes>"
      ]
     },
     "metadata": {
      "needs_background": "light"
     },
     "output_type": "display_data"
    }
   ],
   "source": [
    "# Combine the x values into a single array\n",
    "x1 = np.array(subset_df_Ptaeda['DBH'])\n",
    "x2 = np.array(subset_df_Ptaeda['H'])\n",
    "x_combined = np.column_stack((x1, x2))\n",
    "\n",
    "ydata = subset_df_Ptaeda['agb (kg)']\n",
    "\n",
    "# Re-working the function to make it to work for multiple x inputs\n",
    "def Chave_bagw(x, p1, p2):\n",
    "    bagw = (p1 * (0.51 * x[:, 0]**2.0 * x[:, 1])**p2) / 2\n",
    "    return bagw\n",
    "\n",
    "# Perform the curve fit\n",
    "parameters, covariance = curve_fit(Chave_bagw, x_combined, ydata)\n",
    "print (parameters)\n",
    "p1 = parameters[0]\n",
    "p2 = parameters[1]\n",
    "\n",
    "fit_y = Chave_bagw(x_combined, p1, p2)\n",
    "plt.plot(x_combined[:, 0], ydata, 'o', label='Original Data 1')\n",
    "plt.plot(x_combined[:, 1], ydata, 'o', label='Original Data 2')\n",
    "plt.plot(x_combined[:, 0], fit_y, '-', label='fit1')\n",
    "plt.plot(x_combined[:, 1], fit_y, '-', label='fit2')\n",
    "plt.legend()"
   ]
  },
  {
   "cell_type": "markdown",
   "metadata": {},
   "source": [
    "| Data Source         | Model                    | p1         | p2         |\n",
    "|---------------------|--------------------------|------------|------------|\n",
    "| FACE ORNL Sweetgum | Power Function           | 0.20302727 | 1.64087179 |\n",
    "|                     | Obrien                   | 1.64087178 | -0.69244563|\n",
    "| Norby 2001          | 2 Parameter Power Function | 0.43146431 | 2.08115839 |\n",
    "|                     | Chave's                  | 1.58630521 | 0.57085158 |\n",
    "| DUKE  TALLO              | Power Function  Tallo62          | 1.39568721 | 0.78584162 |\n",
    "|                     | Power Function  Tallo17         | 1.43476856 | 0.77807518 |\n",
    "|                     | Obrien          Tallo62         | 0.78584147 | 0.14478831 |\n",
    "|                     | Obrien          Tallo17  | 0.7780761  | 0.15678067 |\n",
    "| Kim 2019 Paper      | Power Function  PTaeda         | 7.07017762 | 0.34666995 |\n",
    "|                     | Obrien          PTaeda         | 0.34666997 | 0.8494303  |\n",
    "| Kim 2019 Paper      | Power Function  Broadleaf         | 2.53377793 | 0.70312836 |\n",
    "|                     | Obrien          Broadleaf         | 0.70312836 | 0.40376855 |\n",
    "| Kim 2019 Paper            | 2 Parameter Power Function  PTaeda | 0.15588125 | 2.51685189 |\n",
    "|                     | Chave's            PTaeda      | 0.0225935  | 1.13669949 |\n"
   ]
  },
  {
   "cell_type": "code",
   "execution_count": null,
   "metadata": {},
   "outputs": [],
   "source": []
  }
 ],
 "metadata": {
  "kernelspec": {
   "display_name": "pyces",
   "language": "python",
   "name": "python3"
  },
  "language_info": {
   "codemirror_mode": {
    "name": "ipython",
    "version": 3
   },
   "file_extension": ".py",
   "mimetype": "text/x-python",
   "name": "python",
   "nbconvert_exporter": "python",
   "pygments_lexer": "ipython3",
   "version": "3.9.6"
  }
 },
 "nbformat": 4,
 "nbformat_minor": 2
}
