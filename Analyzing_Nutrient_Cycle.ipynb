{
 "cells": [
  {
   "cell_type": "code",
   "execution_count": null,
   "id": "c0aaadaa-60b3-48a7-9ea1-f4dba0fa98ad",
   "metadata": {},
   "outputs": [],
   "source": [
    "import os,glob\n",
    "import xarray as xr\n",
    "import matplotlib.pyplot as plt\n",
    "import numpy as np\n",
    "import pandas as pd\n",
    "import pyreadr # to read .rds files"
   ]
  },
  {
   "cell_type": "code",
   "execution_count": 2,
   "id": "bcc6c602-3064-4d82-a4af-796153cfaacd",
   "metadata": {},
   "outputs": [
    {
     "name": "stdout",
     "output_type": "stream",
     "text": [
      "Analyzing_Nutrient_Cycle.ipynb\n",
      "\u001b[34mBharat_AW_NoLogging_api25e3sm_r0301b_ECA_US-DUK_I20TRELMFATES\u001b[m\u001b[m/\n",
      "\u001b[34mBharat_AW_NoLogging_api25e3sm_r0301b_ECA_US-DUK_I20TRELMFATES_aCO2\u001b[m\u001b[m/\n",
      "\u001b[34mBharat_AW_NoLogging_api25e3sm_r0301b_ECA_US-DUK_I20TRELMFATES_eCO2\u001b[m\u001b[m/\n",
      "\u001b[34mBharat_AW_logfix_api25e3sm_mf0df100_r0301_ECA_US-DUK_I20TRELMFATES\u001b[m\u001b[m/\n",
      "\u001b[34mBharat_AW_logfix_api25e3sm_mf0df100_r0301_ECA_US-DUK_I20TRELMFATES_aCO2\u001b[m\u001b[m/\n",
      "\u001b[34mBharat_AW_logfix_api25e3sm_mf0df100_r0301_ECA_US-DUK_I20TRELMFATES_eCO2\u001b[m\u001b[m/\n",
      "\u001b[34mBharat_AW_logfix_api25e3sm_mf0df100_r0301_US-DUK_I20TRELMFATES\u001b[m\u001b[m/\n",
      "\u001b[34mBharat_AW_logfix_api25e3sm_mf0df100_r0301_US-DUK_I20TRELMFATES_aCO2\u001b[m\u001b[m/\n",
      "\u001b[34mBharat_AW_logfix_api25e3sm_mf0df100_r0301_US-DUK_I20TRELMFATES_eCO2\u001b[m\u001b[m/\n"
     ]
    }
   ],
   "source": [
    "ls"
   ]
  },
  {
   "cell_type": "code",
   "execution_count": 6,
   "id": "77d039d1-2da8-4e53-b61b-a2827afc556c",
   "metadata": {},
   "outputs": [],
   "source": [
    "fnames={}\n",
    "fnames[\"DUK_NoLog_Trans\"] = \"Bharat_AW_logfix_api25e3sm_mf0df100_r0301_US-DUK_I20TRELMFATES/run/Bharat_AW_logfix_api25e3sm_mf0df100_r0301_US-DUK_I20TRELMFATES.elm.h0.*.nc\"\n"
   ]
  },
  {
   "cell_type": "code",
   "execution_count": 7,
   "id": "3ef103ef-2444-4b72-acdc-bedb4d918c33",
   "metadata": {},
   "outputs": [],
   "source": [
    "ds ={}"
   ]
  },
  {
   "cell_type": "code",
   "execution_count": 8,
   "id": "d8cba782-cad7-46be-ad8c-f4a8e601dc76",
   "metadata": {},
   "outputs": [],
   "source": [
    "ds [\"DUK_NoLog_Trans\"] = ds=xr.open_mfdataset(fnames[\"DUK_NoLog_Trans\"],decode_times=True)\n"
   ]
  },
  {
   "cell_type": "code",
   "execution_count": 9,
   "id": "c0487dd9-6be0-4b21-8c5f-27aa4cea26b4",
   "metadata": {},
   "outputs": [
    {
     "ename": "KeyError",
     "evalue": "'DUK_NoLog_Trans'",
     "output_type": "error",
     "traceback": [
      "\u001b[0;31m---------------------------------------------------------------------------\u001b[0m",
      "\u001b[0;31mKeyError\u001b[0m                                  Traceback (most recent call last)",
      "\u001b[0;32m~/opt/anaconda3/envs/pyces/lib/python3.9/site-packages/xarray/core/dataset.py\u001b[0m in \u001b[0;36m_construct_dataarray\u001b[0;34m(self, name)\u001b[0m\n\u001b[1;32m   1397\u001b[0m         \u001b[0;32mtry\u001b[0m\u001b[0;34m:\u001b[0m\u001b[0;34m\u001b[0m\u001b[0;34m\u001b[0m\u001b[0m\n\u001b[0;32m-> 1398\u001b[0;31m             \u001b[0mvariable\u001b[0m \u001b[0;34m=\u001b[0m \u001b[0mself\u001b[0m\u001b[0;34m.\u001b[0m\u001b[0m_variables\u001b[0m\u001b[0;34m[\u001b[0m\u001b[0mname\u001b[0m\u001b[0;34m]\u001b[0m\u001b[0;34m\u001b[0m\u001b[0;34m\u001b[0m\u001b[0m\n\u001b[0m\u001b[1;32m   1399\u001b[0m         \u001b[0;32mexcept\u001b[0m \u001b[0mKeyError\u001b[0m\u001b[0;34m:\u001b[0m\u001b[0;34m\u001b[0m\u001b[0;34m\u001b[0m\u001b[0m\n",
      "\u001b[0;31mKeyError\u001b[0m: 'DUK_NoLog_Trans'",
      "\nDuring handling of the above exception, another exception occurred:\n",
      "\u001b[0;31mKeyError\u001b[0m                                  Traceback (most recent call last)",
      "\u001b[0;32m/var/folders/f1/01gxw8vn74q_x_rf_p5ztryjr405zq/T/ipykernel_24978/2255946889.py\u001b[0m in \u001b[0;36m<module>\u001b[0;34m\u001b[0m\n\u001b[0;32m----> 1\u001b[0;31m \u001b[0mds\u001b[0m \u001b[0;34m[\u001b[0m\u001b[0;34m\"DUK_NoLog_Trans\"\u001b[0m\u001b[0;34m]\u001b[0m\u001b[0;34m\u001b[0m\u001b[0;34m\u001b[0m\u001b[0m\n\u001b[0m",
      "\u001b[0;32m~/opt/anaconda3/envs/pyces/lib/python3.9/site-packages/xarray/core/dataset.py\u001b[0m in \u001b[0;36m__getitem__\u001b[0;34m(self, key)\u001b[0m\n\u001b[1;32m   1500\u001b[0m \u001b[0;34m\u001b[0m\u001b[0m\n\u001b[1;32m   1501\u001b[0m         \u001b[0;32mif\u001b[0m \u001b[0mhashable\u001b[0m\u001b[0;34m(\u001b[0m\u001b[0mkey\u001b[0m\u001b[0;34m)\u001b[0m\u001b[0;34m:\u001b[0m\u001b[0;34m\u001b[0m\u001b[0;34m\u001b[0m\u001b[0m\n\u001b[0;32m-> 1502\u001b[0;31m             \u001b[0;32mreturn\u001b[0m \u001b[0mself\u001b[0m\u001b[0;34m.\u001b[0m\u001b[0m_construct_dataarray\u001b[0m\u001b[0;34m(\u001b[0m\u001b[0mkey\u001b[0m\u001b[0;34m)\u001b[0m\u001b[0;34m\u001b[0m\u001b[0;34m\u001b[0m\u001b[0m\n\u001b[0m\u001b[1;32m   1503\u001b[0m         \u001b[0;32melse\u001b[0m\u001b[0;34m:\u001b[0m\u001b[0;34m\u001b[0m\u001b[0;34m\u001b[0m\u001b[0m\n\u001b[1;32m   1504\u001b[0m             \u001b[0;32mreturn\u001b[0m \u001b[0mself\u001b[0m\u001b[0;34m.\u001b[0m\u001b[0m_copy_listed\u001b[0m\u001b[0;34m(\u001b[0m\u001b[0mkey\u001b[0m\u001b[0;34m)\u001b[0m\u001b[0;34m\u001b[0m\u001b[0;34m\u001b[0m\u001b[0m\n",
      "\u001b[0;32m~/opt/anaconda3/envs/pyces/lib/python3.9/site-packages/xarray/core/dataset.py\u001b[0m in \u001b[0;36m_construct_dataarray\u001b[0;34m(self, name)\u001b[0m\n\u001b[1;32m   1398\u001b[0m             \u001b[0mvariable\u001b[0m \u001b[0;34m=\u001b[0m \u001b[0mself\u001b[0m\u001b[0;34m.\u001b[0m\u001b[0m_variables\u001b[0m\u001b[0;34m[\u001b[0m\u001b[0mname\u001b[0m\u001b[0;34m]\u001b[0m\u001b[0;34m\u001b[0m\u001b[0;34m\u001b[0m\u001b[0m\n\u001b[1;32m   1399\u001b[0m         \u001b[0;32mexcept\u001b[0m \u001b[0mKeyError\u001b[0m\u001b[0;34m:\u001b[0m\u001b[0;34m\u001b[0m\u001b[0;34m\u001b[0m\u001b[0m\n\u001b[0;32m-> 1400\u001b[0;31m             _, name, variable = _get_virtual_variable(\n\u001b[0m\u001b[1;32m   1401\u001b[0m                 \u001b[0mself\u001b[0m\u001b[0;34m.\u001b[0m\u001b[0m_variables\u001b[0m\u001b[0;34m,\u001b[0m \u001b[0mname\u001b[0m\u001b[0;34m,\u001b[0m \u001b[0mself\u001b[0m\u001b[0;34m.\u001b[0m\u001b[0m_level_coords\u001b[0m\u001b[0;34m,\u001b[0m \u001b[0mself\u001b[0m\u001b[0;34m.\u001b[0m\u001b[0mdims\u001b[0m\u001b[0;34m\u001b[0m\u001b[0;34m\u001b[0m\u001b[0m\n\u001b[1;32m   1402\u001b[0m             )\n",
      "\u001b[0;32m~/opt/anaconda3/envs/pyces/lib/python3.9/site-packages/xarray/core/dataset.py\u001b[0m in \u001b[0;36m_get_virtual_variable\u001b[0;34m(variables, key, level_vars, dim_sizes)\u001b[0m\n\u001b[1;32m    171\u001b[0m         \u001b[0mref_var\u001b[0m \u001b[0;34m=\u001b[0m \u001b[0mdim_var\u001b[0m\u001b[0;34m.\u001b[0m\u001b[0mto_index_variable\u001b[0m\u001b[0;34m(\u001b[0m\u001b[0;34m)\u001b[0m\u001b[0;34m.\u001b[0m\u001b[0mget_level_variable\u001b[0m\u001b[0;34m(\u001b[0m\u001b[0mref_name\u001b[0m\u001b[0;34m)\u001b[0m\u001b[0;34m\u001b[0m\u001b[0;34m\u001b[0m\u001b[0m\n\u001b[1;32m    172\u001b[0m     \u001b[0;32melse\u001b[0m\u001b[0;34m:\u001b[0m\u001b[0;34m\u001b[0m\u001b[0;34m\u001b[0m\u001b[0m\n\u001b[0;32m--> 173\u001b[0;31m         \u001b[0mref_var\u001b[0m \u001b[0;34m=\u001b[0m \u001b[0mvariables\u001b[0m\u001b[0;34m[\u001b[0m\u001b[0mref_name\u001b[0m\u001b[0;34m]\u001b[0m\u001b[0;34m\u001b[0m\u001b[0;34m\u001b[0m\u001b[0m\n\u001b[0m\u001b[1;32m    174\u001b[0m \u001b[0;34m\u001b[0m\u001b[0m\n\u001b[1;32m    175\u001b[0m     \u001b[0;32mif\u001b[0m \u001b[0mvar_name\u001b[0m \u001b[0;32mis\u001b[0m \u001b[0;32mNone\u001b[0m\u001b[0;34m:\u001b[0m\u001b[0;34m\u001b[0m\u001b[0;34m\u001b[0m\u001b[0m\n",
      "\u001b[0;31mKeyError\u001b[0m: 'DUK_NoLog_Trans'"
     ]
    }
   ],
   "source": [
    "ds [\"DUK_NoLog_Trans\"]"
   ]
  },
  {
   "cell_type": "code",
   "execution_count": null,
   "id": "2dde28e5-cae6-468d-9ddd-8eb7eb829b5e",
   "metadata": {},
   "outputs": [],
   "source": []
  },
  {
   "cell_type": "code",
   "execution_count": null,
   "id": "79785cf8-9b43-48d3-98f1-4392d8411219",
   "metadata": {},
   "outputs": [],
   "source": []
  }
 ],
 "metadata": {
  "kernelspec": {
   "display_name": "Python [conda env:pyces] *",
   "language": "python",
   "name": "conda-env-pyces-py"
  },
  "language_info": {
   "codemirror_mode": {
    "name": "ipython",
    "version": 3
   },
   "file_extension": ".py",
   "mimetype": "text/x-python",
   "name": "python",
   "nbconvert_exporter": "python",
   "pygments_lexer": "ipython3",
   "version": "3.9.6"
  }
 },
 "nbformat": 4,
 "nbformat_minor": 5
}
